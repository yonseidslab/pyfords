{
 "cells": [
  {
   "cell_type": "markdown",
   "metadata": {},
   "source": [
    "# Intro\n",
    "\n",
    "`numpy`는 과학 계산을 위한 파이썬 패키지이며, 다차원 자료구조 `ndarray`를 통해 효율적인 벡터/행렬 계산 기능을 제공합니다. `pandas`는 넘파이를 기반으로 데이터 사이언스에 필요한 자료구조 및 데이터 핸들링 기능들을 제공합니다. 대표적으로 1차원 자료구조인 `Series`와 2차원 자료구조인 `DataFrame`을 지원합니다. 우리는 넘파이보다는 판다스를 집중적으로 다룰 것이지만, 판다스의 자료구조들이 결국은 넘파이의 어레이를 기반으로 만들어지므로 넘파이에 대한 최소한의 이해는 필요합니다.\n",
    "\n",
    "# 1. Numpy 튜토리얼\n",
    "\n",
    "시작하기 전에, `numpy` 패키지를 `np`라는 이름으로 불러오겠습니다."
   ]
  },
  {
   "cell_type": "code",
   "execution_count": 1,
   "metadata": {},
   "outputs": [],
   "source": [
    "import numpy as np"
   ]
  },
  {
   "cell_type": "markdown",
   "metadata": {},
   "source": [
    "## 1.1. ndarray\n",
    "\n",
    "넘파이의 핵심은 `ndarray` 클래스입니다. 어레이는 지금까지 다룬 리스트와 유사하지만 더욱 강력한 성능과 기능을 제공합니다.  `np.array()` 함수 안에 리스트를 집어넣으면 어레이를 만들 수 있습니다."
   ]
  },
  {
   "cell_type": "code",
   "execution_count": 2,
   "metadata": {},
   "outputs": [],
   "source": [
    "a = [1,2,3]"
   ]
  },
  {
   "cell_type": "code",
   "execution_count": 3,
   "metadata": {},
   "outputs": [
    {
     "data": {
      "text/plain": [
       "array([1, 2, 3])"
      ]
     },
     "execution_count": 3,
     "metadata": {},
     "output_type": "execute_result"
    }
   ],
   "source": [
    "np.array(a)"
   ]
  },
  {
   "cell_type": "code",
   "execution_count": 4,
   "metadata": {},
   "outputs": [
    {
     "data": {
      "text/plain": [
       "array([4, 5])"
      ]
     },
     "execution_count": 4,
     "metadata": {},
     "output_type": "execute_result"
    }
   ],
   "source": [
    "b = [4,5]\n",
    "np.array(b)"
   ]
  },
  {
   "cell_type": "code",
   "execution_count": 5,
   "metadata": {},
   "outputs": [
    {
     "data": {
      "text/plain": [
       "array([1, 2, 3, 4, 5])"
      ]
     },
     "execution_count": 5,
     "metadata": {},
     "output_type": "execute_result"
    }
   ],
   "source": [
    "np.array([1,2,3,4,5])"
   ]
  },
  {
   "cell_type": "markdown",
   "metadata": {},
   "source": [
    "## 1.2. 어레이와 자료형\n",
    "\n",
    "어레이가 포함하는 요소들은 모두 같은 자료형을 가져야만 하며, 어레이를 만들 때 `dtype` 매개변수를 활용하여 자료형을 직접 지정할 수 있습니다. 데이터 타입을 지정하지 않으면 넘파이가 자동으로 데이터 타입을 판단합니다. 만들어진 어레이의 데이터 타입을 확인할 때는 `dtype` 속성을 활용합니다. "
   ]
  },
  {
   "cell_type": "code",
   "execution_count": 6,
   "metadata": {},
   "outputs": [],
   "source": [
    "a = np.array([1,2,3], dtype=\"int8\") # 자료가 차지하는 메모리 직접 제한 가능"
   ]
  },
  {
   "cell_type": "code",
   "execution_count": 7,
   "metadata": {},
   "outputs": [
    {
     "data": {
      "text/plain": [
       "dtype('int8')"
      ]
     },
     "execution_count": 7,
     "metadata": {},
     "output_type": "execute_result"
    }
   ],
   "source": [
    "a.dtype # dtype 속성을 통해 자료형에 접근 가능"
   ]
  },
  {
   "cell_type": "markdown",
   "metadata": {},
   "source": [
    "어레이의 자료형을 변환할 때는 `astype` 메소드를 활용합니다. 괄호 안에 원하는 자료형을 적어주면 어레이를 해당 자료형으로 변환한 결과가 출력됩니다. 역시 어레이를 직접적으로 변화시키는 메소드가 아니기 때문에 결과를 저장하려면 다시 할당을 해주어야 합니다. "
   ]
  },
  {
   "cell_type": "code",
   "execution_count": 8,
   "metadata": {},
   "outputs": [
    {
     "data": {
      "text/plain": [
       "array(['1', '2', '3'], dtype='<U11')"
      ]
     },
     "execution_count": 8,
     "metadata": {},
     "output_type": "execute_result"
    }
   ],
   "source": [
    "a = np.array([1,2,3])\n",
    "a.astype('str')"
   ]
  },
  {
   "cell_type": "code",
   "execution_count": 9,
   "metadata": {},
   "outputs": [
    {
     "data": {
      "text/plain": [
       "array([1., 2., 3.], dtype=float16)"
      ]
     },
     "execution_count": 9,
     "metadata": {},
     "output_type": "execute_result"
    }
   ],
   "source": [
    "a = np.array([1,2,3])\n",
    "a.astype('float16')"
   ]
  },
  {
   "cell_type": "markdown",
   "metadata": {},
   "source": [
    "## 1.3. n차원 어레이와 shape\n",
    "\n",
    "![이미지 출처: Tensors, The Building Block For Deep Learning](http://www.curiousinspiration.com/media/section-848.png)\n",
    "\n",
    "**넘파이의 1차원 어레이는 하나의 행 벡터처럼 생각할 수 있습니다.** 따라서 여러 개의 1차원 어레이를 결합하면, 하나의 행렬을 만들 수 있을 것입니다. 예를 들어 $\\vec{u} = (1,2,3)$ 이라는 벡터와 $\\vec{v} = (4,5,6)$이라는 벡터를 두 개의 행으로 갖는 $2 \\times 3$ 크기의 행렬 $A$를 넘파이로 구현해보겠습니다."
   ]
  },
  {
   "cell_type": "markdown",
   "metadata": {},
   "source": [
    "$$A = \\begin{pmatrix}\n",
    " \\vec{u} \\\\\n",
    " \\vec{v} \\\\\n",
    " \\end{pmatrix} = \n",
    " \\begin{pmatrix}\n",
    " 1 & 2 & 3 \\\\\n",
    " 4 & 5 & 6 \\\\\n",
    " \\end{pmatrix}\n",
    " $$\n",
    "\n",
    " "
   ]
  },
  {
   "cell_type": "code",
   "execution_count": 10,
   "metadata": {},
   "outputs": [],
   "source": [
    "u = np.array([1,2,3])"
   ]
  },
  {
   "cell_type": "code",
   "execution_count": 11,
   "metadata": {},
   "outputs": [],
   "source": [
    "v = np.array([4,5,6])"
   ]
  },
  {
   "cell_type": "code",
   "execution_count": 12,
   "metadata": {},
   "outputs": [
    {
     "data": {
      "text/plain": [
       "array([[1, 2, 3],\n",
       "       [4, 5, 6]])"
      ]
     },
     "execution_count": 12,
     "metadata": {},
     "output_type": "execute_result"
    }
   ],
   "source": [
    "A = np.array([u,v])\n",
    "A"
   ]
  },
  {
   "cell_type": "code",
   "execution_count": 13,
   "metadata": {},
   "outputs": [
    {
     "data": {
      "text/plain": [
       "(2, 3)"
      ]
     },
     "execution_count": 13,
     "metadata": {},
     "output_type": "execute_result"
    }
   ],
   "source": [
    "A.shape"
   ]
  },
  {
   "cell_type": "code",
   "execution_count": 14,
   "metadata": {},
   "outputs": [
    {
     "data": {
      "text/plain": [
       "array([[1, 2, 3],\n",
       "       [4, 5, 6]])"
      ]
     },
     "execution_count": 14,
     "metadata": {},
     "output_type": "execute_result"
    }
   ],
   "source": [
    "A = np.array([[1,2,3],[4,5,6]])\n",
    "A"
   ]
  },
  {
   "cell_type": "markdown",
   "metadata": {},
   "source": [
    "위 예시 코드에서 `u`와 `v`는 각각 $(1,2,3)$, $(4,5,6)$ 을 표현하는 어레이입니다. 두 개의 어레이를 다시 `np.array` 함수로 묶은 것이 `A`입니다. `shape`은 어레이의 모양을 나타내는 속성입니다. 즉 행렬로 따지면 $m \\times n$ 의 사이즈를 나타냅니다. 오른쪽 코드처럼 리스트로 행렬구조를 표현하여 즉시 어레이를 만들어줄 수도 있습니다.\n",
    "\n",
    "차수가 서로 다른 벡터들을 가지고 행렬을 만들 수 없듯이, 길이가 서로 다른 1차원 어레이를 가지고도 2차원 어레이를 만들 수 없습니다. 길이가 서로 다른 1차원 어레이들을 쌓으면 결과는 1차원 어레이들을 요소로 갖는 1차원 어레이가 됩니다."
   ]
  },
  {
   "cell_type": "code",
   "execution_count": 15,
   "metadata": {},
   "outputs": [
    {
     "data": {
      "text/plain": [
       "array([array([1, 2, 3]), array([4, 5])], dtype=object)"
      ]
     },
     "execution_count": 15,
     "metadata": {},
     "output_type": "execute_result"
    }
   ],
   "source": [
    "u = np.array([1,2,3])\n",
    "v = np.array([4,5])\n",
    "A = np.array([u,v])\n",
    "A"
   ]
  },
  {
   "cell_type": "code",
   "execution_count": 16,
   "metadata": {},
   "outputs": [
    {
     "data": {
      "text/plain": [
       "(2,)"
      ]
     },
     "execution_count": 16,
     "metadata": {},
     "output_type": "execute_result"
    }
   ],
   "source": [
    "A.shape"
   ]
  },
  {
   "cell_type": "markdown",
   "metadata": {},
   "source": [
    "넘파이 배열은 3차원 이상으로도 확장될 수 있습니다. 3차원 이상의 배열로 확장할 때에도 마찬가지로 요소들의 `shape`이 일치해야 합니다. 차원이 늘어나면, `shape`의 앞쪽으로 확장된 차수가 추가됩니다.\n",
    "\n",
    "$$A = \n",
    " \\begin{pmatrix}\n",
    " 1 & 2 & 3 \\\\\n",
    " 3 & 4 & 5 \\\\\n",
    " \\end{pmatrix}, \\space\n",
    " B = \n",
    " \\begin{pmatrix}\n",
    " 5 & 6 & 7 \\\\\n",
    " 7 & 8 & 9 \\\\\n",
    " \\end{pmatrix}\n",
    "$$"
   ]
  },
  {
   "cell_type": "code",
   "execution_count": 17,
   "metadata": {},
   "outputs": [
    {
     "data": {
      "text/plain": [
       "(2, 3)"
      ]
     },
     "execution_count": 17,
     "metadata": {},
     "output_type": "execute_result"
    }
   ],
   "source": [
    "A = np.array([[1,2,3],[3,4,5]])\n",
    "A.shape"
   ]
  },
  {
   "cell_type": "code",
   "execution_count": 18,
   "metadata": {},
   "outputs": [
    {
     "data": {
      "text/plain": [
       "(2, 3)"
      ]
     },
     "execution_count": 18,
     "metadata": {},
     "output_type": "execute_result"
    }
   ],
   "source": [
    "B = np.array([[5,6,7],[7,8,9]])\n",
    "B.shape"
   ]
  },
  {
   "cell_type": "code",
   "execution_count": 19,
   "metadata": {},
   "outputs": [
    {
     "data": {
      "text/plain": [
       "array([[[1, 2, 3],\n",
       "        [3, 4, 5]],\n",
       "\n",
       "       [[5, 6, 7],\n",
       "        [7, 8, 9]]])"
      ]
     },
     "execution_count": 19,
     "metadata": {},
     "output_type": "execute_result"
    }
   ],
   "source": [
    "C = np.array([A,B])\n",
    "C"
   ]
  },
  {
   "cell_type": "code",
   "execution_count": 20,
   "metadata": {},
   "outputs": [
    {
     "data": {
      "text/plain": [
       "(2, 2, 3)"
      ]
     },
     "execution_count": 20,
     "metadata": {},
     "output_type": "execute_result"
    }
   ],
   "source": [
    "C.shape"
   ]
  },
  {
   "cell_type": "markdown",
   "metadata": {},
   "source": [
    "위 예시 코드에서 `A`와 `B`는 각각 $2 \\times 3$ 행렬입니다. `C`는 `A` 와 `B`를 쌓아서 만든 $2 \\times 2 \\times 3$ 텐서입니다. 즉 2개의 행렬 안에 각각 2개의 벡터가 들어있고, 각각의 벡터 안에 3개의 스칼라가 들어있는 모양입니다.\n",
    "\n",
    "## 1.4. 어레이 인덱싱\n",
    "\n",
    "어레이의 인덱싱 역시 대괄호`[]`와 콜론`:`을 사용합니다. 어레이 인덱싱에서 주의할 점은 인덱싱 문법이 어레이의 `shape`에 대응한다는 점입니다. 즉 `(2,3,4)`와 같은 `shape`을 갖는 어레이에서 하나의 스칼라를 인덱싱하는 경우, `[0,0,0]` 부터 `[1,2,3]` 의 인덱스 범위가 존재하게 됩니다. 여기에서는 2차원 어레이의 인덱싱까지만 다룹니다.\n",
    "\n",
    "### 1차원 어레이\n",
    "\n",
    "1차원 어레이의 인덱싱은 파이썬 리스트 인덱싱과 크게 다를 것 없습니다."
   ]
  },
  {
   "cell_type": "code",
   "execution_count": 23,
   "metadata": {},
   "outputs": [
    {
     "data": {
      "text/plain": [
       "2"
      ]
     },
     "execution_count": 23,
     "metadata": {},
     "output_type": "execute_result"
    }
   ],
   "source": [
    "a = np.array([1,2,3])\n",
    "a[1]"
   ]
  },
  {
   "cell_type": "code",
   "execution_count": 24,
   "metadata": {},
   "outputs": [
    {
     "data": {
      "text/plain": [
       "array([2])"
      ]
     },
     "execution_count": 24,
     "metadata": {},
     "output_type": "execute_result"
    }
   ],
   "source": [
    "a[1:-1]"
   ]
  },
  {
   "cell_type": "markdown",
   "metadata": {},
   "source": [
    "### 2차원 어레이\n",
    "\n",
    "행렬 $A$ 에 대응하는 2차원 어레이 `A`를 아래와 같이 구현해보겠습니다.\n",
    "\n",
    "$$A = \n",
    " \\begin{pmatrix}\n",
    " 1 & 2 & 3 \\\\\n",
    " 4 & 5 & 6 \\\\\n",
    " \\end{pmatrix}\n",
    "$$"
   ]
  },
  {
   "cell_type": "code",
   "execution_count": 25,
   "metadata": {},
   "outputs": [
    {
     "data": {
      "text/plain": [
       "array([[1, 2, 3],\n",
       "       [4, 5, 6]])"
      ]
     },
     "execution_count": 25,
     "metadata": {},
     "output_type": "execute_result"
    }
   ],
   "source": [
    "A = np.array([[1,2,3],[4,5,6]])\n",
    "A"
   ]
  },
  {
   "cell_type": "markdown",
   "metadata": {},
   "source": [
    "2차원 어레이에서 하나의 스칼라를 인덱싱할 때에는 `A[행인덱스,열인덱스]`과 같이 쓰면 됩니다. 즉 2행 1열의 요소를 인덱싱히려면 다음과 같이 쓰면 됩니다. 파이썬의 인덱스는 `0`부터 시작하기 때문에 `[2,1]`이 아니라 `[1,0]`이 됩니다."
   ]
  },
  {
   "cell_type": "code",
   "execution_count": 26,
   "metadata": {},
   "outputs": [
    {
     "data": {
      "text/plain": [
       "array([3, 6])"
      ]
     },
     "execution_count": 26,
     "metadata": {},
     "output_type": "execute_result"
    }
   ],
   "source": [
    "A[:2,-1]"
   ]
  },
  {
   "cell_type": "markdown",
   "metadata": {},
   "source": [
    "이번에는 슬라이싱을 적용해서 세 번째 열 전체를 가져와보겠습니다. 전체 행에 대해서 세 번째 열의 요소만들 가져오므로 구간은 `[:,2]`와 같이 표현합니다."
   ]
  },
  {
   "cell_type": "code",
   "execution_count": 27,
   "metadata": {},
   "outputs": [
    {
     "data": {
      "text/plain": [
       "array([3, 6])"
      ]
     },
     "execution_count": 27,
     "metadata": {},
     "output_type": "execute_result"
    }
   ],
   "source": [
    "A[:,2]"
   ]
  },
  {
   "cell_type": "markdown",
   "metadata": {},
   "source": [
    "**예제 1.1. 어레이 A에서 4와 5를 인덱싱해보세요.**"
   ]
  },
  {
   "cell_type": "code",
   "execution_count": 28,
   "metadata": {},
   "outputs": [],
   "source": [
    "A = np.array([[1,2,3],[4,5,6]])"
   ]
  },
  {
   "cell_type": "code",
   "execution_count": 29,
   "metadata": {},
   "outputs": [
    {
     "data": {
      "text/plain": [
       "array([4, 5])"
      ]
     },
     "execution_count": 29,
     "metadata": {},
     "output_type": "execute_result"
    }
   ],
   "source": [
    "A[1,:2]"
   ]
  },
  {
   "cell_type": "markdown",
   "metadata": {},
   "source": [
    "**풀이**\n",
    "\n",
    "두 번째 행 벡터에서 두 번째 요소까지를 가져오면 되는 문제입니다. 따라서 구간은 [1,:2]가 됩니다."
   ]
  },
  {
   "cell_type": "code",
   "execution_count": 30,
   "metadata": {},
   "outputs": [
    {
     "data": {
      "text/plain": [
       "array([4, 5])"
      ]
     },
     "execution_count": 30,
     "metadata": {},
     "output_type": "execute_result"
    }
   ],
   "source": [
    "A[1,:2]"
   ]
  },
  {
   "cell_type": "markdown",
   "metadata": {},
   "source": [
    "## 1.5. 어레이 연산\n",
    "\n",
    "### 같은 쉐입의 연산\n",
    "\n",
    "어레이의 쉐입이 같을 때, `+`, `-`, `*`, `/`, `**` 등 기본 연산은 같은 위치의 원소들끼리 연산한 결과를 반환합니다."
   ]
  },
  {
   "cell_type": "code",
   "execution_count": 31,
   "metadata": {},
   "outputs": [],
   "source": [
    "u = np.array([1,2,3])\n",
    "v = np.array([4,5,6])"
   ]
  },
  {
   "cell_type": "code",
   "execution_count": 32,
   "metadata": {},
   "outputs": [
    {
     "data": {
      "text/plain": [
       "array([5, 7, 9])"
      ]
     },
     "execution_count": 32,
     "metadata": {},
     "output_type": "execute_result"
    }
   ],
   "source": [
    "u + v # 덧셈"
   ]
  },
  {
   "cell_type": "code",
   "execution_count": 33,
   "metadata": {},
   "outputs": [
    {
     "data": {
      "text/plain": [
       "array([-3, -3, -3])"
      ]
     },
     "execution_count": 33,
     "metadata": {},
     "output_type": "execute_result"
    }
   ],
   "source": [
    "u - v # 뺄셈"
   ]
  },
  {
   "cell_type": "code",
   "execution_count": 34,
   "metadata": {},
   "outputs": [
    {
     "data": {
      "text/plain": [
       "array([ 4, 10, 18])"
      ]
     },
     "execution_count": 34,
     "metadata": {},
     "output_type": "execute_result"
    }
   ],
   "source": [
    "u * v # 곱셈"
   ]
  },
  {
   "cell_type": "code",
   "execution_count": 35,
   "metadata": {},
   "outputs": [
    {
     "data": {
      "text/plain": [
       "array([0.25, 0.4 , 0.5 ])"
      ]
     },
     "execution_count": 35,
     "metadata": {},
     "output_type": "execute_result"
    }
   ],
   "source": [
    "u / v # 나눗셈"
   ]
  },
  {
   "cell_type": "markdown",
   "metadata": {},
   "source": [
    "### 다른 `shape`의 연산: 브로드캐스팅\n",
    "\n",
    "![출처: numpy.ndarray객체의 브로드캐스팅(broadcasting)](http://2.bp.blogspot.com/-FjpwaGpHonQ/VTlvgBlMY_I/AAAAAAAAANk/vfFsuGjmlmk/s1600/numpy_broadcasting.png)\n",
    "\n",
    "넘파이는 서로 다른 쉐입의 자료들 간에도 연산을 지원합니다. 물론 모든 어레이들이 서로 호환되는 것은 아닙니다. 2차원까지의 어레이에 한정하여 말하면 다음과 같은 경우에 브로드캐스팅이 가능합니다. 여기에서는 스칼라 연산의 결과만을 확인해보겠습니다.\n",
    "\n",
    "- 스칼라와 벡터, 스칼라와 행렬 간의 연산\n",
    "- $m \\times n$ 행렬과 $m \\times 1$ 벡터 간의 연산\n",
    "- $m \\times n$ 행렬과 $1 \\times n$ 벡터 간의 연산\n",
    "- $m \\times 1$ 벡터와 $1 \\times n$ 벡터 간의 연산"
   ]
  },
  {
   "cell_type": "markdown",
   "metadata": {},
   "source": [
    "  **덧셈**"
   ]
  },
  {
   "cell_type": "code",
   "execution_count": 36,
   "metadata": {},
   "outputs": [
    {
     "data": {
      "text/plain": [
       "array([4, 5, 6])"
      ]
     },
     "execution_count": 36,
     "metadata": {},
     "output_type": "execute_result"
    }
   ],
   "source": [
    "a = np.array([1,2,3])\n",
    "a + 3"
   ]
  },
  {
   "cell_type": "markdown",
   "metadata": {},
   "source": [
    "  \n",
    "**뺄셈**"
   ]
  },
  {
   "cell_type": "code",
   "execution_count": 37,
   "metadata": {},
   "outputs": [
    {
     "data": {
      "text/plain": [
       "array([0, 1, 2])"
      ]
     },
     "execution_count": 37,
     "metadata": {},
     "output_type": "execute_result"
    }
   ],
   "source": [
    "a = np.array([1,2,3])\n",
    "a - 1"
   ]
  },
  {
   "cell_type": "markdown",
   "metadata": {},
   "source": [
    "**곱셈**"
   ]
  },
  {
   "cell_type": "code",
   "execution_count": 38,
   "metadata": {},
   "outputs": [
    {
     "data": {
      "text/plain": [
       "array([3, 6, 9])"
      ]
     },
     "execution_count": 38,
     "metadata": {},
     "output_type": "execute_result"
    }
   ],
   "source": [
    "a = np.array([1,2,3])\n",
    "a * 3"
   ]
  },
  {
   "cell_type": "markdown",
   "metadata": {},
   "source": [
    "  \n",
    "**나눗셈**"
   ]
  },
  {
   "cell_type": "code",
   "execution_count": 39,
   "metadata": {},
   "outputs": [
    {
     "data": {
      "text/plain": [
       "array([0.5, 1. , 1.5])"
      ]
     },
     "execution_count": 39,
     "metadata": {},
     "output_type": "execute_result"
    }
   ],
   "source": [
    "a = np.array([1,2,3])\n",
    "a / 2"
   ]
  },
  {
   "cell_type": "markdown",
   "metadata": {},
   "source": [
    "## 1.6. 기타 함수와 메소드\n",
    "\n",
    "### numpy 함수\n",
    "\n",
    "- `np.dot` : 두 벡터의 내적을 계산\n",
    "- `np.matmul` : 두 행렬의 곱을 계산\n",
    "- `np.power` : 배열 내 요소들의 n승\n",
    "- `np.sqrt` : 배열 내 요소들의 제곱근\n",
    "\n",
    "### ndarray 메소드\n",
    "\n",
    "- `ndarray.transpose` : 전치\n",
    "- `ndarray.reshape` : shape 재배열"
   ]
  },
  {
   "cell_type": "markdown",
   "metadata": {},
   "source": [
    "# 2. Pandas\n",
    "\n",
    "시작하기 전에, `pandas`를 `pd`라는 별칭으로 불러오겠습니다."
   ]
  },
  {
   "cell_type": "code",
   "execution_count": 43,
   "metadata": {},
   "outputs": [],
   "source": [
    "import pandas as pd"
   ]
  },
  {
   "cell_type": "markdown",
   "metadata": {},
   "source": [
    "## 2.1. 판다스의 자료형\n",
    "\n",
    "판다스의 핵심은 1차원 자료형 클래스 `Series`, 2차원 자료형 클래스 `DataFrame`입니다. 시리즈와 데이터프레임은 각각 넘파이의 1차원 어레이, 2차원 어레이에 더욱 다양한 기능들을 추가하여 만들어졌습니다. **시리즈는 대부분의 경우 하나의 열, 변수, 피쳐를 나타내며, 여러 개의 시리즈들을 한데 묶은 것이 데이터프레임입니다.** 아래 그림은 `apples`, `oranges`라는 두 개의 컬럼이 하나의 데이터프레임을 이루는 모습입니다.\n",
    "\n",
    "![출처: Python Pandas Tutorial: A Complete Introduction for Beginners](https://storage.googleapis.com/lds-media/images/series-and-dataframe.width-1200.png)\n",
    "\n",
    "## 2.2. 시리즈\n",
    "\n",
    "시리즈를 만들 때는 `pd.Series` 안에 리스트 혹은 넘파이 어레이를 넣어줍니다. 출력해보면 하나의 열처럼 세로로 값들이 떨어지는 것을 볼 수 있습니다. 시리즈가 하나의 컬럼이라는 것을 꼭 기억해주세요."
   ]
  },
  {
   "cell_type": "code",
   "execution_count": 45,
   "metadata": {},
   "outputs": [
    {
     "data": {
      "text/plain": [
       "0    3\n",
       "1    2\n",
       "2    0\n",
       "3    1\n",
       "dtype: int64"
      ]
     },
     "execution_count": 45,
     "metadata": {},
     "output_type": "execute_result"
    }
   ],
   "source": [
    "pd.Series([3,2,0,1])"
   ]
  },
  {
   "cell_type": "code",
   "execution_count": 46,
   "metadata": {},
   "outputs": [
    {
     "data": {
      "text/plain": [
       "0    3\n",
       "1    0\n",
       "2    2\n",
       "3    1\n",
       "Name: apples, dtype: int64"
      ]
     },
     "execution_count": 46,
     "metadata": {},
     "output_type": "execute_result"
    }
   ],
   "source": [
    "pd.Series([3,0,2,1]).rename(\"apples\")"
   ]
  },
  {
   "cell_type": "markdown",
   "metadata": {},
   "source": [
    "### apply"
   ]
  },
  {
   "cell_type": "code",
   "execution_count": null,
   "metadata": {},
   "outputs": [],
   "source": [
    "데이터프레임.apply(함수, axis=1) # lambda 함수와 조합해서 사용하는 경우가 많습니다"
   ]
  },
  {
   "cell_type": "markdown",
   "metadata": {},
   "source": [
    "`apply` 메소드는 판다스 시리즈에서 꼭 짚고 넘어가야 할 부분입니다. 앞에서 다루었던 `map` 함수와 유사한 기능을 하는 메소드로, 시리즈의 각 요소들에 주어진 함수를 적용합니다. `for` 루프보다 빠르고 문법도 간결해서 많이 쓰이는 메소드입니다. 개인적으로 숫자 시리즈보다는 문자열 시리즈에서 유용하게 사용합니다."
   ]
  },
  {
   "cell_type": "code",
   "execution_count": 47,
   "metadata": {},
   "outputs": [],
   "source": [
    "mySeries = pd.Series([\"서울 서대문구\", \"서울 중랑구\", \"서울 강남구\"])"
   ]
  },
  {
   "cell_type": "code",
   "execution_count": 48,
   "metadata": {},
   "outputs": [
    {
     "data": {
      "text/plain": [
       "['서대문구', '중랑구', '강남구']"
      ]
     },
     "execution_count": 48,
     "metadata": {},
     "output_type": "execute_result"
    }
   ],
   "source": [
    "[x.split(\" \")[1] for x in mySeries]"
   ]
  },
  {
   "cell_type": "code",
   "execution_count": 49,
   "metadata": {},
   "outputs": [
    {
     "data": {
      "text/plain": [
       "0    서대문구\n",
       "1     중랑구\n",
       "2     강남구\n",
       "dtype: object"
      ]
     },
     "execution_count": 49,
     "metadata": {},
     "output_type": "execute_result"
    }
   ],
   "source": [
    "mySeries.apply(lambda x: x.split(\" \")[1])"
   ]
  },
  {
   "cell_type": "markdown",
   "metadata": {},
   "source": [
    "위의 예시 코드는 \"서울시 ~구\" 형태로 이루어진 문자열 시리즈에서 구만을 뽑아내는 조작입니다. `lambda` 함수는 문자열을 공백을 기준으로 나누고, 반환된 리스트에서 `1`번 인덱스의 값을 반환하도록 되어 있습니다. 이 함수를 `apply` 메소드와 함께 활용하면, 함수를 시리즈의 각 요소에 적용한 결과를 얻을 수 있습니다.\n",
    "\n",
    "**예제 2.1. `apply` 메소드를 활용하여 `dateTime` 시리즈 각 날짜에 해당하는 요일 시리즈를 만들어주세요.**"
   ]
  },
  {
   "cell_type": "code",
   "execution_count": 50,
   "metadata": {},
   "outputs": [],
   "source": [
    "dateTime = pd.date_range(\"2020-01-01\", \"2020-01-30\").to_series() # 날짜 생성"
   ]
  },
  {
   "cell_type": "code",
   "execution_count": 54,
   "metadata": {},
   "outputs": [
    {
     "data": {
      "text/plain": [
       "2"
      ]
     },
     "execution_count": 54,
     "metadata": {},
     "output_type": "execute_result"
    }
   ],
   "source": [
    "dateTime[0].weekday() # 힌트"
   ]
  },
  {
   "cell_type": "markdown",
   "metadata": {},
   "source": [
    "**풀이**\n",
    "\n",
    "날짜 데이터가 생소하겠지만 크게 신경쓸 필요는 없습니다. `weekday` 메소드가 요일을 반환한다는 사실을 알고 있으므로, 먼저 날짜 데이터를 받아서 요일을 반환하는 람다 함수를 짭니다. 람다를 사용해서 메소드를 함수화하였으므로 이제 `apply`와 함께 사용할 수 있습니다. "
   ]
  },
  {
   "cell_type": "code",
   "execution_count": 55,
   "metadata": {},
   "outputs": [
    {
     "data": {
      "text/plain": [
       "<function __main__.<lambda>(x)>"
      ]
     },
     "execution_count": 55,
     "metadata": {},
     "output_type": "execute_result"
    }
   ],
   "source": [
    "lambda x: x.weekday()"
   ]
  },
  {
   "cell_type": "markdown",
   "metadata": {},
   "source": [
    "`dateTime` 시리즈의 `apply` 메소드에 만들어둔 람다 함수를 넣어서 실행합니다."
   ]
  },
  {
   "cell_type": "code",
   "execution_count": 60,
   "metadata": {},
   "outputs": [
    {
     "name": "stdout",
     "output_type": "stream",
     "text": [
      "Wall time: 0 ns\n"
     ]
    },
    {
     "data": {
      "text/plain": [
       "2020-01-01    2\n",
       "2020-01-02    3\n",
       "2020-01-03    4\n",
       "2020-01-04    5\n",
       "2020-01-05    6\n",
       "2020-01-06    0\n",
       "2020-01-07    1\n",
       "2020-01-08    2\n",
       "2020-01-09    3\n",
       "2020-01-10    4\n",
       "2020-01-11    5\n",
       "2020-01-12    6\n",
       "2020-01-13    0\n",
       "2020-01-14    1\n",
       "2020-01-15    2\n",
       "2020-01-16    3\n",
       "2020-01-17    4\n",
       "2020-01-18    5\n",
       "2020-01-19    6\n",
       "2020-01-20    0\n",
       "2020-01-21    1\n",
       "2020-01-22    2\n",
       "2020-01-23    3\n",
       "2020-01-24    4\n",
       "2020-01-25    5\n",
       "2020-01-26    6\n",
       "2020-01-27    0\n",
       "2020-01-28    1\n",
       "2020-01-29    2\n",
       "2020-01-30    3\n",
       "Freq: D, dtype: int64"
      ]
     },
     "execution_count": 60,
     "metadata": {},
     "output_type": "execute_result"
    }
   ],
   "source": [
    "%time dateTime.apply(lambda x: x.weekday()) # 출력 생략"
   ]
  },
  {
   "cell_type": "markdown",
   "metadata": {},
   "source": [
    "앞에서 배운 리스트 컴프리헨션을 통해서도 똑같이 구현할 수 있습니다. 개인적으로 어떤 방법이 더 빠른지는 확신은 못하겠지만, 데이터가 큰 경우 리스트 컴프리헨션 쪽이 더 잘 돌아갔던 것 같습니다."
   ]
  },
  {
   "cell_type": "code",
   "execution_count": 61,
   "metadata": {},
   "outputs": [
    {
     "name": "stdout",
     "output_type": "stream",
     "text": [
      "Wall time: 0 ns\n"
     ]
    },
    {
     "data": {
      "text/plain": [
       "2020-01-01    2\n",
       "2020-01-02    3\n",
       "2020-01-03    4\n",
       "2020-01-04    5\n",
       "2020-01-05    6\n",
       "2020-01-06    0\n",
       "2020-01-07    1\n",
       "2020-01-08    2\n",
       "2020-01-09    3\n",
       "2020-01-10    4\n",
       "2020-01-11    5\n",
       "2020-01-12    6\n",
       "2020-01-13    0\n",
       "2020-01-14    1\n",
       "2020-01-15    2\n",
       "2020-01-16    3\n",
       "2020-01-17    4\n",
       "2020-01-18    5\n",
       "2020-01-19    6\n",
       "2020-01-20    0\n",
       "2020-01-21    1\n",
       "2020-01-22    2\n",
       "2020-01-23    3\n",
       "2020-01-24    4\n",
       "2020-01-25    5\n",
       "2020-01-26    6\n",
       "2020-01-27    0\n",
       "2020-01-28    1\n",
       "2020-01-29    2\n",
       "2020-01-30    3\n",
       "dtype: int64"
      ]
     },
     "execution_count": 61,
     "metadata": {},
     "output_type": "execute_result"
    }
   ],
   "source": [
    "%time pd.Series([x.weekday() for x in dateTime], dateTime)"
   ]
  },
  {
   "cell_type": "markdown",
   "metadata": {},
   "source": [
    "### 데이터프레임\n",
    "\n",
    "데이터프레임을 만들 때에는 `pd.DataFrame` 안에 딕셔너리를 넣어줍니다. 이 때 딕셔너리의 키는 컬럼의 이름어야 하고, 값은 컬럼에 실제로 들어갈 요소들이어야 합니다. 행 인덱스가 필요하다면 `index` 파라미터에 행 인덱스로 사용할 값들을 넣어주면 됩니다. "
   ]
  },
  {
   "cell_type": "code",
   "execution_count": 62,
   "metadata": {},
   "outputs": [
    {
     "data": {
      "text/html": [
       "<div>\n",
       "<style scoped>\n",
       "    .dataframe tbody tr th:only-of-type {\n",
       "        vertical-align: middle;\n",
       "    }\n",
       "\n",
       "    .dataframe tbody tr th {\n",
       "        vertical-align: top;\n",
       "    }\n",
       "\n",
       "    .dataframe thead th {\n",
       "        text-align: right;\n",
       "    }\n",
       "</style>\n",
       "<table border=\"1\" class=\"dataframe\">\n",
       "  <thead>\n",
       "    <tr style=\"text-align: right;\">\n",
       "      <th></th>\n",
       "      <th>apples</th>\n",
       "      <th>oranges</th>\n",
       "    </tr>\n",
       "  </thead>\n",
       "  <tbody>\n",
       "    <tr>\n",
       "      <th>June</th>\n",
       "      <td>3</td>\n",
       "      <td>0</td>\n",
       "    </tr>\n",
       "    <tr>\n",
       "      <th>Robert</th>\n",
       "      <td>2</td>\n",
       "      <td>3</td>\n",
       "    </tr>\n",
       "    <tr>\n",
       "      <th>Lily</th>\n",
       "      <td>0</td>\n",
       "      <td>7</td>\n",
       "    </tr>\n",
       "    <tr>\n",
       "      <th>David</th>\n",
       "      <td>1</td>\n",
       "      <td>2</td>\n",
       "    </tr>\n",
       "  </tbody>\n",
       "</table>\n",
       "</div>"
      ],
      "text/plain": [
       "        apples  oranges\n",
       "June         3        0\n",
       "Robert       2        3\n",
       "Lily         0        7\n",
       "David        1        2"
      ]
     },
     "execution_count": 62,
     "metadata": {},
     "output_type": "execute_result"
    }
   ],
   "source": [
    "data = {\n",
    "    'apples': [3, 2, 0, 1], \n",
    "    'oranges': [0, 3, 7, 2]\n",
    "}\n",
    "purchases = pd.DataFrame(data, index=['June', 'Robert', 'Lily', 'David'])\n",
    "purchases"
   ]
  },
  {
   "cell_type": "markdown",
   "metadata": {},
   "source": [
    "**예제 2.2. 아래와 같은 데이터프레임을 만들어주세요.**"
   ]
  },
  {
   "cell_type": "code",
   "execution_count": 63,
   "metadata": {},
   "outputs": [
    {
     "data": {
      "text/html": [
       "<div>\n",
       "<style scoped>\n",
       "    .dataframe tbody tr th:only-of-type {\n",
       "        vertical-align: middle;\n",
       "    }\n",
       "\n",
       "    .dataframe tbody tr th {\n",
       "        vertical-align: top;\n",
       "    }\n",
       "\n",
       "    .dataframe thead th {\n",
       "        text-align: right;\n",
       "    }\n",
       "</style>\n",
       "<table border=\"1\" class=\"dataframe\">\n",
       "  <thead>\n",
       "    <tr style=\"text-align: right;\">\n",
       "      <th></th>\n",
       "      <th>학점</th>\n",
       "      <th>학년</th>\n",
       "    </tr>\n",
       "  </thead>\n",
       "  <tbody>\n",
       "    <tr>\n",
       "      <th>0</th>\n",
       "      <td>A</td>\n",
       "      <td>3</td>\n",
       "    </tr>\n",
       "    <tr>\n",
       "      <th>1</th>\n",
       "      <td>B</td>\n",
       "      <td>3</td>\n",
       "    </tr>\n",
       "    <tr>\n",
       "      <th>2</th>\n",
       "      <td>C</td>\n",
       "      <td>1</td>\n",
       "    </tr>\n",
       "    <tr>\n",
       "      <th>3</th>\n",
       "      <td>A</td>\n",
       "      <td>2</td>\n",
       "    </tr>\n",
       "  </tbody>\n",
       "</table>\n",
       "</div>"
      ],
      "text/plain": [
       "  학점  학년\n",
       "0  A   3\n",
       "1  B   3\n",
       "2  C   1\n",
       "3  A   2"
      ]
     },
     "execution_count": 63,
     "metadata": {},
     "output_type": "execute_result"
    }
   ],
   "source": []
  },
  {
   "cell_type": "markdown",
   "metadata": {},
   "source": [
    "**풀이**\n",
    "\n",
    "데이터프레임은 학점, 학년이라는 두 개의 컬럼으로 이루어져 있습니다. 따라서 딕셔너리의 키 값은 `\"학점\"`,`\"학년\"`이 됩니다. 학점의 값은 `[\"A\",\"B\",\"C\",\"A\"]` 이고, 학년의 값은 `[3,3,1,2]`입니다. 따라서 데이터프레임을 이루는 딕셔너리는 다음과 같이 만들어졌을 것입니다."
   ]
  },
  {
   "cell_type": "code",
   "execution_count": 64,
   "metadata": {},
   "outputs": [],
   "source": [
    "data = {\"학점\":[\"A\",\"B\",\"C\",\"A\"], \"학년\":[3,3,1,2]}"
   ]
  },
  {
   "cell_type": "markdown",
   "metadata": {},
   "source": [
    "이 결과를 `pd.DataFrame`으로 감싸주면 데이터프레임이 완성됩니다."
   ]
  },
  {
   "cell_type": "code",
   "execution_count": 65,
   "metadata": {},
   "outputs": [
    {
     "data": {
      "text/html": [
       "<div>\n",
       "<style scoped>\n",
       "    .dataframe tbody tr th:only-of-type {\n",
       "        vertical-align: middle;\n",
       "    }\n",
       "\n",
       "    .dataframe tbody tr th {\n",
       "        vertical-align: top;\n",
       "    }\n",
       "\n",
       "    .dataframe thead th {\n",
       "        text-align: right;\n",
       "    }\n",
       "</style>\n",
       "<table border=\"1\" class=\"dataframe\">\n",
       "  <thead>\n",
       "    <tr style=\"text-align: right;\">\n",
       "      <th></th>\n",
       "      <th>학점</th>\n",
       "      <th>학년</th>\n",
       "    </tr>\n",
       "  </thead>\n",
       "  <tbody>\n",
       "    <tr>\n",
       "      <th>0</th>\n",
       "      <td>A</td>\n",
       "      <td>3</td>\n",
       "    </tr>\n",
       "    <tr>\n",
       "      <th>1</th>\n",
       "      <td>B</td>\n",
       "      <td>3</td>\n",
       "    </tr>\n",
       "    <tr>\n",
       "      <th>2</th>\n",
       "      <td>C</td>\n",
       "      <td>1</td>\n",
       "    </tr>\n",
       "    <tr>\n",
       "      <th>3</th>\n",
       "      <td>A</td>\n",
       "      <td>2</td>\n",
       "    </tr>\n",
       "  </tbody>\n",
       "</table>\n",
       "</div>"
      ],
      "text/plain": [
       "  학점  학년\n",
       "0  A   3\n",
       "1  B   3\n",
       "2  C   1\n",
       "3  A   2"
      ]
     },
     "execution_count": 65,
     "metadata": {},
     "output_type": "execute_result"
    }
   ],
   "source": [
    "pd.DataFrame(data)"
   ]
  },
  {
   "cell_type": "markdown",
   "metadata": {},
   "source": [
    "## 2.2. 판다스 인덱싱\n",
    "\n",
    "판다스 인덱싱에는 `loc`, `iloc` 을 사용합니다. 대괄호 안에 `[행,열]` 순서로 적어주는 것은 동일하지만, `loc`은 이름을 사용하는 반면 `iloc`은 번호(좌표)를 사용합니다.\n",
    "\n",
    "`df.loc[]`: $\\textbf{loc}$ates by name, 즉 행/열 이름으로 인덱싱\n",
    "\n",
    "`df.iloc[]`: $\\textbf{loc}$ates by numerical $\\textbf{i}$ndex, 즉 행/열 번호로 인덱싱"
   ]
  },
  {
   "cell_type": "code",
   "execution_count": 66,
   "metadata": {},
   "outputs": [
    {
     "data": {
      "text/html": [
       "<div>\n",
       "<style scoped>\n",
       "    .dataframe tbody tr th:only-of-type {\n",
       "        vertical-align: middle;\n",
       "    }\n",
       "\n",
       "    .dataframe tbody tr th {\n",
       "        vertical-align: top;\n",
       "    }\n",
       "\n",
       "    .dataframe thead th {\n",
       "        text-align: right;\n",
       "    }\n",
       "</style>\n",
       "<table border=\"1\" class=\"dataframe\">\n",
       "  <thead>\n",
       "    <tr style=\"text-align: right;\">\n",
       "      <th></th>\n",
       "      <th>apples</th>\n",
       "      <th>oranges</th>\n",
       "    </tr>\n",
       "  </thead>\n",
       "  <tbody>\n",
       "    <tr>\n",
       "      <th>June</th>\n",
       "      <td>3</td>\n",
       "      <td>0</td>\n",
       "    </tr>\n",
       "    <tr>\n",
       "      <th>Robert</th>\n",
       "      <td>2</td>\n",
       "      <td>3</td>\n",
       "    </tr>\n",
       "    <tr>\n",
       "      <th>Lily</th>\n",
       "      <td>0</td>\n",
       "      <td>7</td>\n",
       "    </tr>\n",
       "    <tr>\n",
       "      <th>David</th>\n",
       "      <td>1</td>\n",
       "      <td>2</td>\n",
       "    </tr>\n",
       "  </tbody>\n",
       "</table>\n",
       "</div>"
      ],
      "text/plain": [
       "        apples  oranges\n",
       "June         3        0\n",
       "Robert       2        3\n",
       "Lily         0        7\n",
       "David        1        2"
      ]
     },
     "execution_count": 66,
     "metadata": {},
     "output_type": "execute_result"
    }
   ],
   "source": [
    "purchases"
   ]
  },
  {
   "cell_type": "code",
   "execution_count": null,
   "metadata": {},
   "outputs": [],
   "source": [
    "purchases.loc[행,열]"
   ]
  },
  {
   "cell_type": "code",
   "execution_count": null,
   "metadata": {},
   "outputs": [],
   "source": [
    "purchases.iloc[행,열]"
   ]
  },
  {
   "cell_type": "markdown",
   "metadata": {},
   "source": [
    "## 2.2. 외부 데이터 읽어오기\n",
    "\n",
    "판다스로 데이터프레임을 직접 만들 수도 있지만, 대부분의 경우에는  `csv`, `xlsx`, `json` 등 파일로 저장된 외부 데이터를 읽어와 작업을 하게 됩니다. **앞으로 가장 많이 접하게 될 `csv` 파일을 읽어오는 함수는 `pd.read_csv` 입니다.** 가장 먼저 파일이 위치한 경로를 입력하고, `encoding` 매개변수에 파일의 인코딩을 지정해줍니다. `utf-8`이 기본 옵션이므로 `utf-8` 파일을 읽어올 때에는 따로 인코딩을 지정할 필요가 없습니다. "
   ]
  },
  {
   "cell_type": "code",
   "execution_count": 70,
   "metadata": {},
   "outputs": [],
   "source": [
    "data = pd.read_csv(\"../data/dataset_for_analysis.csv\", encoding=\"ANSI\")"
   ]
  },
  {
   "cell_type": "code",
   "execution_count": 71,
   "metadata": {},
   "outputs": [
    {
     "data": {
      "text/html": [
       "<div>\n",
       "<style scoped>\n",
       "    .dataframe tbody tr th:only-of-type {\n",
       "        vertical-align: middle;\n",
       "    }\n",
       "\n",
       "    .dataframe tbody tr th {\n",
       "        vertical-align: top;\n",
       "    }\n",
       "\n",
       "    .dataframe thead th {\n",
       "        text-align: right;\n",
       "    }\n",
       "</style>\n",
       "<table border=\"1\" class=\"dataframe\">\n",
       "  <thead>\n",
       "    <tr style=\"text-align: right;\">\n",
       "      <th></th>\n",
       "      <th>사례번호</th>\n",
       "      <th>명칭</th>\n",
       "      <th>대륙</th>\n",
       "      <th>국가</th>\n",
       "      <th>연도</th>\n",
       "      <th>당해 GDP 성장율</th>\n",
       "      <th>지난 9년 성장율 중위</th>\n",
       "      <th>기준연도(중위 연도)</th>\n",
       "      <th>당해 물가 상승률</th>\n",
       "      <th>기준연도 물가 상승률</th>\n",
       "    </tr>\n",
       "  </thead>\n",
       "  <tbody>\n",
       "    <tr>\n",
       "      <th>0</th>\n",
       "      <td>1</td>\n",
       "      <td>노동법 개정 반대 시위</td>\n",
       "      <td>유럽</td>\n",
       "      <td>이탈리아</td>\n",
       "      <td>2002</td>\n",
       "      <td>0.240000</td>\n",
       "      <td>1.77</td>\n",
       "      <td>2001</td>\n",
       "      <td>3.350000</td>\n",
       "      <td>2.980000</td>\n",
       "    </tr>\n",
       "    <tr>\n",
       "      <th>1</th>\n",
       "      <td>2</td>\n",
       "      <td>카탈루냐 분리독립시위</td>\n",
       "      <td>유럽</td>\n",
       "      <td>스페인</td>\n",
       "      <td>2014</td>\n",
       "      <td>1.370000</td>\n",
       "      <td>0.01</td>\n",
       "      <td>2010</td>\n",
       "      <td>-0.190000</td>\n",
       "      <td>0.160000</td>\n",
       "    </tr>\n",
       "    <tr>\n",
       "      <th>2</th>\n",
       "      <td>3</td>\n",
       "      <td>노란 조끼 시위</td>\n",
       "      <td>유럽</td>\n",
       "      <td>프랑스</td>\n",
       "      <td>2018</td>\n",
       "      <td>1.724881</td>\n",
       "      <td>1.05</td>\n",
       "      <td>2016</td>\n",
       "      <td>0.780000</td>\n",
       "      <td>0.520000</td>\n",
       "    </tr>\n",
       "    <tr>\n",
       "      <th>3</th>\n",
       "      <td>4</td>\n",
       "      <td>브렉시트 반대시위</td>\n",
       "      <td>유럽</td>\n",
       "      <td>영국</td>\n",
       "      <td>2019</td>\n",
       "      <td>1.390000</td>\n",
       "      <td>1.78</td>\n",
       "      <td>2016</td>\n",
       "      <td>1.890000</td>\n",
       "      <td>0.430000</td>\n",
       "    </tr>\n",
       "    <tr>\n",
       "      <th>4</th>\n",
       "      <td>5</td>\n",
       "      <td>푸른혁명</td>\n",
       "      <td>유럽</td>\n",
       "      <td>불가리아</td>\n",
       "      <td>1989</td>\n",
       "      <td>-3.289882</td>\n",
       "      <td>3.43</td>\n",
       "      <td>1983</td>\n",
       "      <td>6.720000</td>\n",
       "      <td>-0.640000</td>\n",
       "    </tr>\n",
       "    <tr>\n",
       "      <th>5</th>\n",
       "      <td>6</td>\n",
       "      <td>대선 불복 시위</td>\n",
       "      <td>남아메리카</td>\n",
       "      <td>볼리비아</td>\n",
       "      <td>2019</td>\n",
       "      <td>4.223625</td>\n",
       "      <td>4.85</td>\n",
       "      <td>2015</td>\n",
       "      <td>3.056264</td>\n",
       "      <td>-4.620603</td>\n",
       "    </tr>\n",
       "    <tr>\n",
       "      <th>6</th>\n",
       "      <td>7</td>\n",
       "      <td>칠레 반정부 시위</td>\n",
       "      <td>남아메리카</td>\n",
       "      <td>칠레</td>\n",
       "      <td>2019</td>\n",
       "      <td>4.024653</td>\n",
       "      <td>2.30</td>\n",
       "      <td>2015</td>\n",
       "      <td>2.018808</td>\n",
       "      <td>4.953538</td>\n",
       "    </tr>\n",
       "    <tr>\n",
       "      <th>7</th>\n",
       "      <td>8</td>\n",
       "      <td>마두로 퇴진 운동</td>\n",
       "      <td>남아메리카</td>\n",
       "      <td>베네수엘라</td>\n",
       "      <td>2015</td>\n",
       "      <td>-3.800000</td>\n",
       "      <td>4.17</td>\n",
       "      <td>2011</td>\n",
       "      <td>40.440490</td>\n",
       "      <td>28.149191</td>\n",
       "    </tr>\n",
       "    <tr>\n",
       "      <th>8</th>\n",
       "      <td>9</td>\n",
       "      <td>브라질 시위</td>\n",
       "      <td>남아메리카</td>\n",
       "      <td>브라질</td>\n",
       "      <td>2013</td>\n",
       "      <td>3.004823</td>\n",
       "      <td>3.97</td>\n",
       "      <td>2011</td>\n",
       "      <td>7.504544</td>\n",
       "      <td>8.318592</td>\n",
       "    </tr>\n",
       "    <tr>\n",
       "      <th>9</th>\n",
       "      <td>10</td>\n",
       "      <td>피플 파워 혁명</td>\n",
       "      <td>동아시아</td>\n",
       "      <td>필리핀</td>\n",
       "      <td>1986</td>\n",
       "      <td>-7.306609</td>\n",
       "      <td>0.83</td>\n",
       "      <td>1977</td>\n",
       "      <td>2.952878</td>\n",
       "      <td>8.272876</td>\n",
       "    </tr>\n",
       "    <tr>\n",
       "      <th>10</th>\n",
       "      <td>11</td>\n",
       "      <td>천안문 광장 시위</td>\n",
       "      <td>동아시아</td>\n",
       "      <td>중국</td>\n",
       "      <td>1989</td>\n",
       "      <td>4.185868</td>\n",
       "      <td>10.83</td>\n",
       "      <td>1983</td>\n",
       "      <td>8.623799</td>\n",
       "      <td>1.097460</td>\n",
       "    </tr>\n",
       "    <tr>\n",
       "      <th>11</th>\n",
       "      <td>12</td>\n",
       "      <td>천안문 사태 반대 시위</td>\n",
       "      <td>동아시아</td>\n",
       "      <td>홍콩</td>\n",
       "      <td>1989</td>\n",
       "      <td>2.276921</td>\n",
       "      <td>9.97</td>\n",
       "      <td>1984</td>\n",
       "      <td>12.559534</td>\n",
       "      <td>9.642059</td>\n",
       "    </tr>\n",
       "    <tr>\n",
       "      <th>12</th>\n",
       "      <td>13</td>\n",
       "      <td>우산혁명</td>\n",
       "      <td>동아시아</td>\n",
       "      <td>홍콩</td>\n",
       "      <td>2014</td>\n",
       "      <td>2.762394</td>\n",
       "      <td>4.81</td>\n",
       "      <td>2011</td>\n",
       "      <td>2.850293</td>\n",
       "      <td>3.897902</td>\n",
       "    </tr>\n",
       "    <tr>\n",
       "      <th>13</th>\n",
       "      <td>14</td>\n",
       "      <td>6월 민주항쟁</td>\n",
       "      <td>동아시아</td>\n",
       "      <td>대한민국</td>\n",
       "      <td>1987</td>\n",
       "      <td>12.467266</td>\n",
       "      <td>8.62</td>\n",
       "      <td>1979</td>\n",
       "      <td>4.948634</td>\n",
       "      <td>18.532455</td>\n",
       "    </tr>\n",
       "    <tr>\n",
       "      <th>14</th>\n",
       "      <td>15</td>\n",
       "      <td>박근혜 퇴진 운동</td>\n",
       "      <td>동아시아</td>\n",
       "      <td>대한민국</td>\n",
       "      <td>2016</td>\n",
       "      <td>2.929305</td>\n",
       "      <td>2.89</td>\n",
       "      <td>2013</td>\n",
       "      <td>1.977969</td>\n",
       "      <td>0.853334</td>\n",
       "    </tr>\n",
       "    <tr>\n",
       "      <th>15</th>\n",
       "      <td>16</td>\n",
       "      <td>샤프론 혁명</td>\n",
       "      <td>동아시아</td>\n",
       "      <td>미얀마</td>\n",
       "      <td>2007</td>\n",
       "      <td>11.991435</td>\n",
       "      <td>13.07</td>\n",
       "      <td>2006</td>\n",
       "      <td>23.643908</td>\n",
       "      <td>21.300499</td>\n",
       "    </tr>\n",
       "    <tr>\n",
       "      <th>16</th>\n",
       "      <td>17</td>\n",
       "      <td>백향목 혁명</td>\n",
       "      <td>중동</td>\n",
       "      <td>레바논</td>\n",
       "      <td>2005</td>\n",
       "      <td>2.748394</td>\n",
       "      <td>3.42</td>\n",
       "      <td>2002</td>\n",
       "      <td>-1.089530</td>\n",
       "      <td>4.921188</td>\n",
       "    </tr>\n",
       "    <tr>\n",
       "      <th>17</th>\n",
       "      <td>18</td>\n",
       "      <td>터키 반정부 시위</td>\n",
       "      <td>중동</td>\n",
       "      <td>터키</td>\n",
       "      <td>2013</td>\n",
       "      <td>8.491309</td>\n",
       "      <td>7.10</td>\n",
       "      <td>2006</td>\n",
       "      <td>6.268814</td>\n",
       "      <td>9.371704</td>\n",
       "    </tr>\n",
       "    <tr>\n",
       "      <th>18</th>\n",
       "      <td>19</td>\n",
       "      <td>쟈스민 혁명</td>\n",
       "      <td>중동</td>\n",
       "      <td>튀니지</td>\n",
       "      <td>2010</td>\n",
       "      <td>3.510609</td>\n",
       "      <td>4.23</td>\n",
       "      <td>2008</td>\n",
       "      <td>3.815415</td>\n",
       "      <td>6.346362</td>\n",
       "    </tr>\n",
       "    <tr>\n",
       "      <th>19</th>\n",
       "      <td>20</td>\n",
       "      <td>이집트 혁명</td>\n",
       "      <td>중동</td>\n",
       "      <td>이집트</td>\n",
       "      <td>2011</td>\n",
       "      <td>1.764572</td>\n",
       "      <td>4.67</td>\n",
       "      <td>2009</td>\n",
       "      <td>11.662976</td>\n",
       "      <td>11.185542</td>\n",
       "    </tr>\n",
       "    <tr>\n",
       "      <th>20</th>\n",
       "      <td>21</td>\n",
       "      <td>시리아 내전</td>\n",
       "      <td>중동</td>\n",
       "      <td>시리아</td>\n",
       "      <td>2008</td>\n",
       "      <td>3.400000</td>\n",
       "      <td>5.20</td>\n",
       "      <td>2001</td>\n",
       "      <td>11.967172</td>\n",
       "      <td>4.563572</td>\n",
       "    </tr>\n",
       "    <tr>\n",
       "      <th>21</th>\n",
       "      <td>22</td>\n",
       "      <td>리비아 내전</td>\n",
       "      <td>중동</td>\n",
       "      <td>리비아</td>\n",
       "      <td>2009</td>\n",
       "      <td>-0.790000</td>\n",
       "      <td>4.46</td>\n",
       "      <td>2004</td>\n",
       "      <td>-25.312796</td>\n",
       "      <td>22.605353</td>\n",
       "    </tr>\n",
       "  </tbody>\n",
       "</table>\n",
       "</div>"
      ],
      "text/plain": [
       "    사례번호            명칭     대륙     국가    연도  당해 GDP 성장율  지난 9년 성장율 중위  \\\n",
       "0      1  노동법 개정 반대 시위     유럽   이탈리아  2002    0.240000          1.77   \n",
       "1      2   카탈루냐 분리독립시위     유럽    스페인  2014    1.370000          0.01   \n",
       "2      3      노란 조끼 시위     유럽    프랑스  2018    1.724881          1.05   \n",
       "3      4     브렉시트 반대시위     유럽     영국  2019    1.390000          1.78   \n",
       "4      5          푸른혁명     유럽   불가리아  1989   -3.289882          3.43   \n",
       "5      6      대선 불복 시위  남아메리카   볼리비아  2019    4.223625          4.85   \n",
       "6      7     칠레 반정부 시위  남아메리카     칠레  2019    4.024653          2.30   \n",
       "7      8     마두로 퇴진 운동  남아메리카  베네수엘라  2015   -3.800000          4.17   \n",
       "8      9        브라질 시위  남아메리카    브라질  2013    3.004823          3.97   \n",
       "9     10      피플 파워 혁명   동아시아    필리핀  1986   -7.306609          0.83   \n",
       "10    11     천안문 광장 시위   동아시아     중국  1989    4.185868         10.83   \n",
       "11    12  천안문 사태 반대 시위   동아시아     홍콩  1989    2.276921          9.97   \n",
       "12    13          우산혁명   동아시아     홍콩  2014    2.762394          4.81   \n",
       "13    14       6월 민주항쟁   동아시아   대한민국  1987   12.467266          8.62   \n",
       "14    15     박근혜 퇴진 운동   동아시아   대한민국  2016    2.929305          2.89   \n",
       "15    16        샤프론 혁명   동아시아    미얀마  2007   11.991435         13.07   \n",
       "16    17        백향목 혁명     중동    레바논  2005    2.748394          3.42   \n",
       "17    18     터키 반정부 시위     중동     터키  2013    8.491309          7.10   \n",
       "18    19        쟈스민 혁명     중동    튀니지  2010    3.510609          4.23   \n",
       "19    20        이집트 혁명     중동    이집트  2011    1.764572          4.67   \n",
       "20    21        시리아 내전     중동    시리아  2008    3.400000          5.20   \n",
       "21    22        리비아 내전     중동    리비아  2009   -0.790000          4.46   \n",
       "\n",
       "    기준연도(중위 연도)  당해 물가 상승률  기준연도 물가 상승률  \n",
       "0          2001   3.350000     2.980000  \n",
       "1          2010  -0.190000     0.160000  \n",
       "2          2016   0.780000     0.520000  \n",
       "3          2016   1.890000     0.430000  \n",
       "4          1983   6.720000    -0.640000  \n",
       "5          2015   3.056264    -4.620603  \n",
       "6          2015   2.018808     4.953538  \n",
       "7          2011  40.440490    28.149191  \n",
       "8          2011   7.504544     8.318592  \n",
       "9          1977   2.952878     8.272876  \n",
       "10         1983   8.623799     1.097460  \n",
       "11         1984  12.559534     9.642059  \n",
       "12         2011   2.850293     3.897902  \n",
       "13         1979   4.948634    18.532455  \n",
       "14         2013   1.977969     0.853334  \n",
       "15         2006  23.643908    21.300499  \n",
       "16         2002  -1.089530     4.921188  \n",
       "17         2006   6.268814     9.371704  \n",
       "18         2008   3.815415     6.346362  \n",
       "19         2009  11.662976    11.185542  \n",
       "20         2001  11.967172     4.563572  \n",
       "21         2004 -25.312796    22.605353  "
      ]
     },
     "execution_count": 71,
     "metadata": {},
     "output_type": "execute_result"
    }
   ],
   "source": [
    "data"
   ]
  },
  {
   "cell_type": "markdown",
   "metadata": {},
   "source": [
    "**예제 2.2. 아래 링크의 csv 파일을 판다스로 읽어오세요.**\n",
    "\n",
    "https://raw.githubusercontent.com/agconti/kaggle-titanic/master/data/train.csv"
   ]
  },
  {
   "cell_type": "markdown",
   "metadata": {},
   "source": [
    "**풀이**\n",
    "\n",
    "판다스는 웹에 존재하는 파일을 즉시 읽어올 수도 있습니다."
   ]
  },
  {
   "cell_type": "code",
   "execution_count": 73,
   "metadata": {},
   "outputs": [
    {
     "data": {
      "text/html": [
       "<div>\n",
       "<style scoped>\n",
       "    .dataframe tbody tr th:only-of-type {\n",
       "        vertical-align: middle;\n",
       "    }\n",
       "\n",
       "    .dataframe tbody tr th {\n",
       "        vertical-align: top;\n",
       "    }\n",
       "\n",
       "    .dataframe thead th {\n",
       "        text-align: right;\n",
       "    }\n",
       "</style>\n",
       "<table border=\"1\" class=\"dataframe\">\n",
       "  <thead>\n",
       "    <tr style=\"text-align: right;\">\n",
       "      <th></th>\n",
       "      <th>PassengerId</th>\n",
       "      <th>Survived</th>\n",
       "      <th>Pclass</th>\n",
       "      <th>Name</th>\n",
       "      <th>Sex</th>\n",
       "      <th>Age</th>\n",
       "      <th>SibSp</th>\n",
       "      <th>Parch</th>\n",
       "      <th>Ticket</th>\n",
       "      <th>Fare</th>\n",
       "      <th>Cabin</th>\n",
       "      <th>Embarked</th>\n",
       "    </tr>\n",
       "  </thead>\n",
       "  <tbody>\n",
       "    <tr>\n",
       "      <th>0</th>\n",
       "      <td>1</td>\n",
       "      <td>0</td>\n",
       "      <td>3</td>\n",
       "      <td>Braund, Mr. Owen Harris</td>\n",
       "      <td>male</td>\n",
       "      <td>22.0</td>\n",
       "      <td>1</td>\n",
       "      <td>0</td>\n",
       "      <td>A/5 21171</td>\n",
       "      <td>7.2500</td>\n",
       "      <td>NaN</td>\n",
       "      <td>S</td>\n",
       "    </tr>\n",
       "    <tr>\n",
       "      <th>1</th>\n",
       "      <td>2</td>\n",
       "      <td>1</td>\n",
       "      <td>1</td>\n",
       "      <td>Cumings, Mrs. John Bradley (Florence Briggs Th...</td>\n",
       "      <td>female</td>\n",
       "      <td>38.0</td>\n",
       "      <td>1</td>\n",
       "      <td>0</td>\n",
       "      <td>PC 17599</td>\n",
       "      <td>71.2833</td>\n",
       "      <td>C85</td>\n",
       "      <td>C</td>\n",
       "    </tr>\n",
       "    <tr>\n",
       "      <th>2</th>\n",
       "      <td>3</td>\n",
       "      <td>1</td>\n",
       "      <td>3</td>\n",
       "      <td>Heikkinen, Miss. Laina</td>\n",
       "      <td>female</td>\n",
       "      <td>26.0</td>\n",
       "      <td>0</td>\n",
       "      <td>0</td>\n",
       "      <td>STON/O2. 3101282</td>\n",
       "      <td>7.9250</td>\n",
       "      <td>NaN</td>\n",
       "      <td>S</td>\n",
       "    </tr>\n",
       "    <tr>\n",
       "      <th>3</th>\n",
       "      <td>4</td>\n",
       "      <td>1</td>\n",
       "      <td>1</td>\n",
       "      <td>Futrelle, Mrs. Jacques Heath (Lily May Peel)</td>\n",
       "      <td>female</td>\n",
       "      <td>35.0</td>\n",
       "      <td>1</td>\n",
       "      <td>0</td>\n",
       "      <td>113803</td>\n",
       "      <td>53.1000</td>\n",
       "      <td>C123</td>\n",
       "      <td>S</td>\n",
       "    </tr>\n",
       "    <tr>\n",
       "      <th>4</th>\n",
       "      <td>5</td>\n",
       "      <td>0</td>\n",
       "      <td>3</td>\n",
       "      <td>Allen, Mr. William Henry</td>\n",
       "      <td>male</td>\n",
       "      <td>35.0</td>\n",
       "      <td>0</td>\n",
       "      <td>0</td>\n",
       "      <td>373450</td>\n",
       "      <td>8.0500</td>\n",
       "      <td>NaN</td>\n",
       "      <td>S</td>\n",
       "    </tr>\n",
       "  </tbody>\n",
       "</table>\n",
       "</div>"
      ],
      "text/plain": [
       "   PassengerId  Survived  Pclass  \\\n",
       "0            1         0       3   \n",
       "1            2         1       1   \n",
       "2            3         1       3   \n",
       "3            4         1       1   \n",
       "4            5         0       3   \n",
       "\n",
       "                                                Name     Sex   Age  SibSp  \\\n",
       "0                            Braund, Mr. Owen Harris    male  22.0      1   \n",
       "1  Cumings, Mrs. John Bradley (Florence Briggs Th...  female  38.0      1   \n",
       "2                             Heikkinen, Miss. Laina  female  26.0      0   \n",
       "3       Futrelle, Mrs. Jacques Heath (Lily May Peel)  female  35.0      1   \n",
       "4                           Allen, Mr. William Henry    male  35.0      0   \n",
       "\n",
       "   Parch            Ticket     Fare Cabin Embarked  \n",
       "0      0         A/5 21171   7.2500   NaN        S  \n",
       "1      0          PC 17599  71.2833   C85        C  \n",
       "2      0  STON/O2. 3101282   7.9250   NaN        S  \n",
       "3      0            113803  53.1000  C123        S  \n",
       "4      0            373450   8.0500   NaN        S  "
      ]
     },
     "execution_count": 73,
     "metadata": {},
     "output_type": "execute_result"
    }
   ],
   "source": [
    "titanic = pd.read_csv(\n",
    "        \"https://raw.githubusercontent.com/agconti/kaggle-titanic/master/data/train.csv\"\n",
    ")\n",
    "titanic.head()"
   ]
  },
  {
   "cell_type": "markdown",
   "metadata": {},
   "source": [
    "### 경로와 인코딩\n",
    "\n",
    "**절대경로 상대경로, 인코딩**이 무엇인지 아시면 이 내용은 건너뛰셔도 됩니다. \n",
    "\n",
    "#### 경로\n",
    "\n",
    ".|.\n",
    "---|---\n",
    "![](../assets/figs/path.png)|![](../assets/figs/properties.png)\n",
    "\n",
    "**경로는 파일이 존재하는 위치를 뜻하며 절대 경로, 상대 경로로 나누어 생각할 수 있습니다.** 절대 경로는 최상위 디렉토리인 `C:` 부터 시작하는 경로인 반면, 상대 경로는 특정 디렉토리를 기준으로 상대적으로 표현된 경로입니다. 위에서 우리가 읽어들인 `dataset_for_analysis.csv` 파일을 예로 들어 보겠습니다. 먼저 해당 파일이 존재하는 위치로 가서, 파일의 속성을 확인해봅니다. 그러면 위와 같은 화면을 확인할 수 있을 것입니다. 이 때 Location 항목에 표시되는 것이 파일이 위치한 디렉토리의 절대 경로이며, 파일의 절대 경로는 `C:\\Users\\Administrator\\pyfords\\data\\dataset_for_analysis.csv` 가 됩니다.\n",
    "\n",
    "\n",
    "# 계층적으로 표현한 디렉토리 구조"
   ]
  },
  {
   "cell_type": "code",
   "execution_count": null,
   "metadata": {},
   "outputs": [],
   "source": [
    "C:/\n",
    "    Users/\n",
    "        Administrator/\n",
    "            pyfords/\n",
    "                data/\n",
    "                    dataset_for_analysis.csv\n",
    "                    gapminder.csv\n",
    "                    iris.csv"
   ]
  },
  {
   "cell_type": "markdown",
   "metadata": {},
   "source": [
    "하지만 위의 예시 코드에서는 입력한 경로는 `C:` 부터 출발하지 않는 **상대 경로**입니다. 상대 경로를 통해서 파일을 읽어올 수 있었다는 것은 분명히 기준 경로가 존재한다는 뜻입니다. 파일의 절대 경로와 상대 경로를 비교해보면, 파이썬이 인식하는 기준 경로가 `C:\\Users\\Administrator\\pyfords\\` 임을 알 수 있습니다. 만약 주피터 노트북을 사용하고 계신다면, 현재 열려있는 노트북이 실행된 위치가 기준 디렉토리가 됩니다. 파이썬 표준 패키지인 `os`를 이용하면 현재 작업중인 기준 디렉토리를 확인할 수 있습니다."
   ]
  },
  {
   "cell_type": "code",
   "execution_count": 74,
   "metadata": {},
   "outputs": [],
   "source": [
    "import os"
   ]
  },
  {
   "cell_type": "code",
   "execution_count": 76,
   "metadata": {},
   "outputs": [
    {
     "data": {
      "text/plain": [
       "['dataset_for_analysis.csv', 'gapminder.csv', 'iris.csv']"
      ]
     },
     "execution_count": 76,
     "metadata": {},
     "output_type": "execute_result"
    }
   ],
   "source": [
    "os.listdir(\"../data\")"
   ]
  },
  {
   "cell_type": "code",
   "execution_count": 78,
   "metadata": {},
   "outputs": [
    {
     "data": {
      "text/html": [
       "<div>\n",
       "<style scoped>\n",
       "    .dataframe tbody tr th:only-of-type {\n",
       "        vertical-align: middle;\n",
       "    }\n",
       "\n",
       "    .dataframe tbody tr th {\n",
       "        vertical-align: top;\n",
       "    }\n",
       "\n",
       "    .dataframe thead th {\n",
       "        text-align: right;\n",
       "    }\n",
       "</style>\n",
       "<table border=\"1\" class=\"dataframe\">\n",
       "  <thead>\n",
       "    <tr style=\"text-align: right;\">\n",
       "      <th></th>\n",
       "      <th>사례번호</th>\n",
       "      <th>명칭</th>\n",
       "      <th>대륙</th>\n",
       "      <th>국가</th>\n",
       "      <th>연도</th>\n",
       "      <th>당해 GDP 성장율</th>\n",
       "      <th>지난 9년 성장율 중위</th>\n",
       "      <th>기준연도(중위 연도)</th>\n",
       "      <th>당해 물가 상승률</th>\n",
       "      <th>기준연도 물가 상승률</th>\n",
       "    </tr>\n",
       "  </thead>\n",
       "  <tbody>\n",
       "    <tr>\n",
       "      <th>0</th>\n",
       "      <td>1</td>\n",
       "      <td>노동법 개정 반대 시위</td>\n",
       "      <td>유럽</td>\n",
       "      <td>이탈리아</td>\n",
       "      <td>2002</td>\n",
       "      <td>0.240000</td>\n",
       "      <td>1.77</td>\n",
       "      <td>2001</td>\n",
       "      <td>3.350000</td>\n",
       "      <td>2.980000</td>\n",
       "    </tr>\n",
       "    <tr>\n",
       "      <th>1</th>\n",
       "      <td>2</td>\n",
       "      <td>카탈루냐 분리독립시위</td>\n",
       "      <td>유럽</td>\n",
       "      <td>스페인</td>\n",
       "      <td>2014</td>\n",
       "      <td>1.370000</td>\n",
       "      <td>0.01</td>\n",
       "      <td>2010</td>\n",
       "      <td>-0.190000</td>\n",
       "      <td>0.160000</td>\n",
       "    </tr>\n",
       "    <tr>\n",
       "      <th>2</th>\n",
       "      <td>3</td>\n",
       "      <td>노란 조끼 시위</td>\n",
       "      <td>유럽</td>\n",
       "      <td>프랑스</td>\n",
       "      <td>2018</td>\n",
       "      <td>1.724881</td>\n",
       "      <td>1.05</td>\n",
       "      <td>2016</td>\n",
       "      <td>0.780000</td>\n",
       "      <td>0.520000</td>\n",
       "    </tr>\n",
       "    <tr>\n",
       "      <th>3</th>\n",
       "      <td>4</td>\n",
       "      <td>브렉시트 반대시위</td>\n",
       "      <td>유럽</td>\n",
       "      <td>영국</td>\n",
       "      <td>2019</td>\n",
       "      <td>1.390000</td>\n",
       "      <td>1.78</td>\n",
       "      <td>2016</td>\n",
       "      <td>1.890000</td>\n",
       "      <td>0.430000</td>\n",
       "    </tr>\n",
       "    <tr>\n",
       "      <th>4</th>\n",
       "      <td>5</td>\n",
       "      <td>푸른혁명</td>\n",
       "      <td>유럽</td>\n",
       "      <td>불가리아</td>\n",
       "      <td>1989</td>\n",
       "      <td>-3.289882</td>\n",
       "      <td>3.43</td>\n",
       "      <td>1983</td>\n",
       "      <td>6.720000</td>\n",
       "      <td>-0.640000</td>\n",
       "    </tr>\n",
       "    <tr>\n",
       "      <th>5</th>\n",
       "      <td>6</td>\n",
       "      <td>대선 불복 시위</td>\n",
       "      <td>남아메리카</td>\n",
       "      <td>볼리비아</td>\n",
       "      <td>2019</td>\n",
       "      <td>4.223625</td>\n",
       "      <td>4.85</td>\n",
       "      <td>2015</td>\n",
       "      <td>3.056264</td>\n",
       "      <td>-4.620603</td>\n",
       "    </tr>\n",
       "    <tr>\n",
       "      <th>6</th>\n",
       "      <td>7</td>\n",
       "      <td>칠레 반정부 시위</td>\n",
       "      <td>남아메리카</td>\n",
       "      <td>칠레</td>\n",
       "      <td>2019</td>\n",
       "      <td>4.024653</td>\n",
       "      <td>2.30</td>\n",
       "      <td>2015</td>\n",
       "      <td>2.018808</td>\n",
       "      <td>4.953538</td>\n",
       "    </tr>\n",
       "    <tr>\n",
       "      <th>7</th>\n",
       "      <td>8</td>\n",
       "      <td>마두로 퇴진 운동</td>\n",
       "      <td>남아메리카</td>\n",
       "      <td>베네수엘라</td>\n",
       "      <td>2015</td>\n",
       "      <td>-3.800000</td>\n",
       "      <td>4.17</td>\n",
       "      <td>2011</td>\n",
       "      <td>40.440490</td>\n",
       "      <td>28.149191</td>\n",
       "    </tr>\n",
       "    <tr>\n",
       "      <th>8</th>\n",
       "      <td>9</td>\n",
       "      <td>브라질 시위</td>\n",
       "      <td>남아메리카</td>\n",
       "      <td>브라질</td>\n",
       "      <td>2013</td>\n",
       "      <td>3.004823</td>\n",
       "      <td>3.97</td>\n",
       "      <td>2011</td>\n",
       "      <td>7.504544</td>\n",
       "      <td>8.318592</td>\n",
       "    </tr>\n",
       "    <tr>\n",
       "      <th>9</th>\n",
       "      <td>10</td>\n",
       "      <td>피플 파워 혁명</td>\n",
       "      <td>동아시아</td>\n",
       "      <td>필리핀</td>\n",
       "      <td>1986</td>\n",
       "      <td>-7.306609</td>\n",
       "      <td>0.83</td>\n",
       "      <td>1977</td>\n",
       "      <td>2.952878</td>\n",
       "      <td>8.272876</td>\n",
       "    </tr>\n",
       "    <tr>\n",
       "      <th>10</th>\n",
       "      <td>11</td>\n",
       "      <td>천안문 광장 시위</td>\n",
       "      <td>동아시아</td>\n",
       "      <td>중국</td>\n",
       "      <td>1989</td>\n",
       "      <td>4.185868</td>\n",
       "      <td>10.83</td>\n",
       "      <td>1983</td>\n",
       "      <td>8.623799</td>\n",
       "      <td>1.097460</td>\n",
       "    </tr>\n",
       "    <tr>\n",
       "      <th>11</th>\n",
       "      <td>12</td>\n",
       "      <td>천안문 사태 반대 시위</td>\n",
       "      <td>동아시아</td>\n",
       "      <td>홍콩</td>\n",
       "      <td>1989</td>\n",
       "      <td>2.276921</td>\n",
       "      <td>9.97</td>\n",
       "      <td>1984</td>\n",
       "      <td>12.559534</td>\n",
       "      <td>9.642059</td>\n",
       "    </tr>\n",
       "    <tr>\n",
       "      <th>12</th>\n",
       "      <td>13</td>\n",
       "      <td>우산혁명</td>\n",
       "      <td>동아시아</td>\n",
       "      <td>홍콩</td>\n",
       "      <td>2014</td>\n",
       "      <td>2.762394</td>\n",
       "      <td>4.81</td>\n",
       "      <td>2011</td>\n",
       "      <td>2.850293</td>\n",
       "      <td>3.897902</td>\n",
       "    </tr>\n",
       "    <tr>\n",
       "      <th>13</th>\n",
       "      <td>14</td>\n",
       "      <td>6월 민주항쟁</td>\n",
       "      <td>동아시아</td>\n",
       "      <td>대한민국</td>\n",
       "      <td>1987</td>\n",
       "      <td>12.467266</td>\n",
       "      <td>8.62</td>\n",
       "      <td>1979</td>\n",
       "      <td>4.948634</td>\n",
       "      <td>18.532455</td>\n",
       "    </tr>\n",
       "    <tr>\n",
       "      <th>14</th>\n",
       "      <td>15</td>\n",
       "      <td>박근혜 퇴진 운동</td>\n",
       "      <td>동아시아</td>\n",
       "      <td>대한민국</td>\n",
       "      <td>2016</td>\n",
       "      <td>2.929305</td>\n",
       "      <td>2.89</td>\n",
       "      <td>2013</td>\n",
       "      <td>1.977969</td>\n",
       "      <td>0.853334</td>\n",
       "    </tr>\n",
       "    <tr>\n",
       "      <th>15</th>\n",
       "      <td>16</td>\n",
       "      <td>샤프론 혁명</td>\n",
       "      <td>동아시아</td>\n",
       "      <td>미얀마</td>\n",
       "      <td>2007</td>\n",
       "      <td>11.991435</td>\n",
       "      <td>13.07</td>\n",
       "      <td>2006</td>\n",
       "      <td>23.643908</td>\n",
       "      <td>21.300499</td>\n",
       "    </tr>\n",
       "    <tr>\n",
       "      <th>16</th>\n",
       "      <td>17</td>\n",
       "      <td>백향목 혁명</td>\n",
       "      <td>중동</td>\n",
       "      <td>레바논</td>\n",
       "      <td>2005</td>\n",
       "      <td>2.748394</td>\n",
       "      <td>3.42</td>\n",
       "      <td>2002</td>\n",
       "      <td>-1.089530</td>\n",
       "      <td>4.921188</td>\n",
       "    </tr>\n",
       "    <tr>\n",
       "      <th>17</th>\n",
       "      <td>18</td>\n",
       "      <td>터키 반정부 시위</td>\n",
       "      <td>중동</td>\n",
       "      <td>터키</td>\n",
       "      <td>2013</td>\n",
       "      <td>8.491309</td>\n",
       "      <td>7.10</td>\n",
       "      <td>2006</td>\n",
       "      <td>6.268814</td>\n",
       "      <td>9.371704</td>\n",
       "    </tr>\n",
       "    <tr>\n",
       "      <th>18</th>\n",
       "      <td>19</td>\n",
       "      <td>쟈스민 혁명</td>\n",
       "      <td>중동</td>\n",
       "      <td>튀니지</td>\n",
       "      <td>2010</td>\n",
       "      <td>3.510609</td>\n",
       "      <td>4.23</td>\n",
       "      <td>2008</td>\n",
       "      <td>3.815415</td>\n",
       "      <td>6.346362</td>\n",
       "    </tr>\n",
       "    <tr>\n",
       "      <th>19</th>\n",
       "      <td>20</td>\n",
       "      <td>이집트 혁명</td>\n",
       "      <td>중동</td>\n",
       "      <td>이집트</td>\n",
       "      <td>2011</td>\n",
       "      <td>1.764572</td>\n",
       "      <td>4.67</td>\n",
       "      <td>2009</td>\n",
       "      <td>11.662976</td>\n",
       "      <td>11.185542</td>\n",
       "    </tr>\n",
       "    <tr>\n",
       "      <th>20</th>\n",
       "      <td>21</td>\n",
       "      <td>시리아 내전</td>\n",
       "      <td>중동</td>\n",
       "      <td>시리아</td>\n",
       "      <td>2008</td>\n",
       "      <td>3.400000</td>\n",
       "      <td>5.20</td>\n",
       "      <td>2001</td>\n",
       "      <td>11.967172</td>\n",
       "      <td>4.563572</td>\n",
       "    </tr>\n",
       "    <tr>\n",
       "      <th>21</th>\n",
       "      <td>22</td>\n",
       "      <td>리비아 내전</td>\n",
       "      <td>중동</td>\n",
       "      <td>리비아</td>\n",
       "      <td>2009</td>\n",
       "      <td>-0.790000</td>\n",
       "      <td>4.46</td>\n",
       "      <td>2004</td>\n",
       "      <td>-25.312796</td>\n",
       "      <td>22.605353</td>\n",
       "    </tr>\n",
       "  </tbody>\n",
       "</table>\n",
       "</div>"
      ],
      "text/plain": [
       "    사례번호            명칭     대륙     국가    연도  당해 GDP 성장율  지난 9년 성장율 중위  \\\n",
       "0      1  노동법 개정 반대 시위     유럽   이탈리아  2002    0.240000          1.77   \n",
       "1      2   카탈루냐 분리독립시위     유럽    스페인  2014    1.370000          0.01   \n",
       "2      3      노란 조끼 시위     유럽    프랑스  2018    1.724881          1.05   \n",
       "3      4     브렉시트 반대시위     유럽     영국  2019    1.390000          1.78   \n",
       "4      5          푸른혁명     유럽   불가리아  1989   -3.289882          3.43   \n",
       "5      6      대선 불복 시위  남아메리카   볼리비아  2019    4.223625          4.85   \n",
       "6      7     칠레 반정부 시위  남아메리카     칠레  2019    4.024653          2.30   \n",
       "7      8     마두로 퇴진 운동  남아메리카  베네수엘라  2015   -3.800000          4.17   \n",
       "8      9        브라질 시위  남아메리카    브라질  2013    3.004823          3.97   \n",
       "9     10      피플 파워 혁명   동아시아    필리핀  1986   -7.306609          0.83   \n",
       "10    11     천안문 광장 시위   동아시아     중국  1989    4.185868         10.83   \n",
       "11    12  천안문 사태 반대 시위   동아시아     홍콩  1989    2.276921          9.97   \n",
       "12    13          우산혁명   동아시아     홍콩  2014    2.762394          4.81   \n",
       "13    14       6월 민주항쟁   동아시아   대한민국  1987   12.467266          8.62   \n",
       "14    15     박근혜 퇴진 운동   동아시아   대한민국  2016    2.929305          2.89   \n",
       "15    16        샤프론 혁명   동아시아    미얀마  2007   11.991435         13.07   \n",
       "16    17        백향목 혁명     중동    레바논  2005    2.748394          3.42   \n",
       "17    18     터키 반정부 시위     중동     터키  2013    8.491309          7.10   \n",
       "18    19        쟈스민 혁명     중동    튀니지  2010    3.510609          4.23   \n",
       "19    20        이집트 혁명     중동    이집트  2011    1.764572          4.67   \n",
       "20    21        시리아 내전     중동    시리아  2008    3.400000          5.20   \n",
       "21    22        리비아 내전     중동    리비아  2009   -0.790000          4.46   \n",
       "\n",
       "    기준연도(중위 연도)  당해 물가 상승률  기준연도 물가 상승률  \n",
       "0          2001   3.350000     2.980000  \n",
       "1          2010  -0.190000     0.160000  \n",
       "2          2016   0.780000     0.520000  \n",
       "3          2016   1.890000     0.430000  \n",
       "4          1983   6.720000    -0.640000  \n",
       "5          2015   3.056264    -4.620603  \n",
       "6          2015   2.018808     4.953538  \n",
       "7          2011  40.440490    28.149191  \n",
       "8          2011   7.504544     8.318592  \n",
       "9          1977   2.952878     8.272876  \n",
       "10         1983   8.623799     1.097460  \n",
       "11         1984  12.559534     9.642059  \n",
       "12         2011   2.850293     3.897902  \n",
       "13         1979   4.948634    18.532455  \n",
       "14         2013   1.977969     0.853334  \n",
       "15         2006  23.643908    21.300499  \n",
       "16         2002  -1.089530     4.921188  \n",
       "17         2006   6.268814     9.371704  \n",
       "18         2008   3.815415     6.346362  \n",
       "19         2009  11.662976    11.185542  \n",
       "20         2001  11.967172     4.563572  \n",
       "21         2004 -25.312796    22.605353  "
      ]
     },
     "execution_count": 78,
     "metadata": {},
     "output_type": "execute_result"
    }
   ],
   "source": [
    "pd.read_csv(\"../data/dataset_for_analysis.csv\", encoding=\"ANSI\")"
   ]
  },
  {
   "cell_type": "code",
   "execution_count": null,
   "metadata": {},
   "outputs": [],
   "source": [
    "utf-8\n",
    "cp949\n",
    "euc-kr"
   ]
  },
  {
   "cell_type": "markdown",
   "metadata": {},
   "source": [
    "#### 인코딩\n",
    "\n",
    "컴퓨터는 숫자만을 저장할 수 있습니다. 따라서 우리가 사용하는 문자들을 컴퓨터에 파일로 저장하기 위해서는 문자를 코드로 바꾸어주는 일종의 변환이 필요합니다. 이러한 변환 과정을 인코딩이라고 합니다. 반대로 인코딩된 자료를 해독하여 다시 사람이 이해할 수 있는 문자로 바꾸어주는 것을 디코딩이라고 합니다. \n",
    "\n",
    "문제는 인코딩에 하나의 통일된 체계가 존재하지 않는다는 점입니다. 예를 들어 `euc-kr`이라는 규칙으로 인코딩된 파일을 `utf-8`이라는 규칙으로 디코딩하려고 한다면 어떻게 될까요? 당연히 정상적으로 해독이 되지 않을 것입니다. 흔히 말해 '글자가 깨지는' 현상이 나타나거나, 혹은 아예 파일을 읽어오지 못할 것입니다. 이러한 경우에는 컴퓨터가 파일의 인코딩 규칙에 맞게 디코딩을 할 수 있도록, 파일이 어떠한 규칙으로 인코딩되었는지 알려주어야 합니다.\n",
    "\n",
    "# 3. 데이터프레임 조작\n",
    "\n",
    "이제 본격적으로 판다스 데이터프레임을 조작하는 방법을 배워보도록 하겠습니다. 크게 아래와 같은 기능들을 학습할 것입니다.\n",
    "\n",
    "- 변수 선택: 데이터프레임의 특정 칼럼을 추출\n",
    "- 필터링: 특정 기준을 만족하는 행을 추출\n",
    "- 정렬: 행을 다시 정렬\n",
    "- 변수 추가: 새로운 변수를 추가\n",
    "- 변수 요약: 변수를 값(스칼라)으로 요약\n",
    "- 그룹별로 조작: 데이터프레임을 범주형 변수의 수준별로 묶어서 조작\n",
    "\n",
    "## 3.1. 변수 선택\n",
    "\n",
    "**변수를 선택한다는 것은 결국 데이터프레임에서 특정 열만을 뽑아내는 작업**입니다. 변수 선택은 다음과 같은 두 가지 방법으로 실행할 수 있습니다. 속성을 사용하는 것이 타이핑은 편하지만, 변수명에 띄어쓰기나 점`.` 등이 포함되거나 기타 속성과 겹칠 경우 사용할 수 없습니다. 대괄호와 문자열을 사용해서 열을 인덱싱하는 방법은 어떠한 경우에도 사용할 수 있습니다."
   ]
  },
  {
   "cell_type": "markdown",
   "metadata": {},
   "source": [
    "**열 인덱싱**"
   ]
  },
  {
   "cell_type": "code",
   "execution_count": 79,
   "metadata": {},
   "outputs": [
    {
     "data": {
      "text/plain": [
       "0      0.240000\n",
       "1      1.370000\n",
       "2      1.724881\n",
       "3      1.390000\n",
       "4     -3.289882\n",
       "5      4.223625\n",
       "6      4.024653\n",
       "7     -3.800000\n",
       "8      3.004823\n",
       "9     -7.306609\n",
       "10     4.185868\n",
       "11     2.276921\n",
       "12     2.762394\n",
       "13    12.467266\n",
       "14     2.929305\n",
       "15    11.991435\n",
       "16     2.748394\n",
       "17     8.491309\n",
       "18     3.510609\n",
       "19     1.764572\n",
       "20     3.400000\n",
       "21    -0.790000\n",
       "Name: 당해 GDP 성장율, dtype: float64"
      ]
     },
     "execution_count": 79,
     "metadata": {},
     "output_type": "execute_result"
    }
   ],
   "source": [
    "data['당해 GDP 성장율']"
   ]
  },
  {
   "cell_type": "markdown",
   "metadata": {},
   "source": [
    "**데이터프레임의 속성**"
   ]
  },
  {
   "cell_type": "code",
   "execution_count": 80,
   "metadata": {},
   "outputs": [
    {
     "data": {
      "text/plain": [
       "0      이탈리아\n",
       "1       스페인\n",
       "2       프랑스\n",
       "3        영국\n",
       "4      불가리아\n",
       "5      볼리비아\n",
       "6        칠레\n",
       "7     베네수엘라\n",
       "8       브라질\n",
       "9       필리핀\n",
       "10       중국\n",
       "11       홍콩\n",
       "12       홍콩\n",
       "13     대한민국\n",
       "14     대한민국\n",
       "15      미얀마\n",
       "16      레바논\n",
       "17       터키\n",
       "18      튀니지\n",
       "19      이집트\n",
       "20      시리아\n",
       "21      리비아\n",
       "Name: 국가, dtype: object"
      ]
     },
     "execution_count": 80,
     "metadata": {},
     "output_type": "execute_result"
    }
   ],
   "source": [
    "data.국가"
   ]
  },
  {
   "cell_type": "markdown",
   "metadata": {},
   "source": [
    "### 복수 개의 열 인덱싱\n",
    "\n",
    "**복수 개의 열을 뽑아낼 때에는 대괄호`[]` 안에 열 이름의 리스트를 넣어줍니다.** "
   ]
  },
  {
   "cell_type": "code",
   "execution_count": 82,
   "metadata": {},
   "outputs": [
    {
     "data": {
      "text/html": [
       "<div>\n",
       "<style scoped>\n",
       "    .dataframe tbody tr th:only-of-type {\n",
       "        vertical-align: middle;\n",
       "    }\n",
       "\n",
       "    .dataframe tbody tr th {\n",
       "        vertical-align: top;\n",
       "    }\n",
       "\n",
       "    .dataframe thead th {\n",
       "        text-align: right;\n",
       "    }\n",
       "</style>\n",
       "<table border=\"1\" class=\"dataframe\">\n",
       "  <thead>\n",
       "    <tr style=\"text-align: right;\">\n",
       "      <th></th>\n",
       "      <th>당해 GDP 성장율</th>\n",
       "      <th>국가</th>\n",
       "    </tr>\n",
       "  </thead>\n",
       "  <tbody>\n",
       "    <tr>\n",
       "      <th>0</th>\n",
       "      <td>0.240000</td>\n",
       "      <td>이탈리아</td>\n",
       "    </tr>\n",
       "    <tr>\n",
       "      <th>1</th>\n",
       "      <td>1.370000</td>\n",
       "      <td>스페인</td>\n",
       "    </tr>\n",
       "    <tr>\n",
       "      <th>2</th>\n",
       "      <td>1.724881</td>\n",
       "      <td>프랑스</td>\n",
       "    </tr>\n",
       "    <tr>\n",
       "      <th>3</th>\n",
       "      <td>1.390000</td>\n",
       "      <td>영국</td>\n",
       "    </tr>\n",
       "    <tr>\n",
       "      <th>4</th>\n",
       "      <td>-3.289882</td>\n",
       "      <td>불가리아</td>\n",
       "    </tr>\n",
       "    <tr>\n",
       "      <th>5</th>\n",
       "      <td>4.223625</td>\n",
       "      <td>볼리비아</td>\n",
       "    </tr>\n",
       "    <tr>\n",
       "      <th>6</th>\n",
       "      <td>4.024653</td>\n",
       "      <td>칠레</td>\n",
       "    </tr>\n",
       "    <tr>\n",
       "      <th>7</th>\n",
       "      <td>-3.800000</td>\n",
       "      <td>베네수엘라</td>\n",
       "    </tr>\n",
       "    <tr>\n",
       "      <th>8</th>\n",
       "      <td>3.004823</td>\n",
       "      <td>브라질</td>\n",
       "    </tr>\n",
       "    <tr>\n",
       "      <th>9</th>\n",
       "      <td>-7.306609</td>\n",
       "      <td>필리핀</td>\n",
       "    </tr>\n",
       "    <tr>\n",
       "      <th>10</th>\n",
       "      <td>4.185868</td>\n",
       "      <td>중국</td>\n",
       "    </tr>\n",
       "    <tr>\n",
       "      <th>11</th>\n",
       "      <td>2.276921</td>\n",
       "      <td>홍콩</td>\n",
       "    </tr>\n",
       "    <tr>\n",
       "      <th>12</th>\n",
       "      <td>2.762394</td>\n",
       "      <td>홍콩</td>\n",
       "    </tr>\n",
       "    <tr>\n",
       "      <th>13</th>\n",
       "      <td>12.467266</td>\n",
       "      <td>대한민국</td>\n",
       "    </tr>\n",
       "    <tr>\n",
       "      <th>14</th>\n",
       "      <td>2.929305</td>\n",
       "      <td>대한민국</td>\n",
       "    </tr>\n",
       "    <tr>\n",
       "      <th>15</th>\n",
       "      <td>11.991435</td>\n",
       "      <td>미얀마</td>\n",
       "    </tr>\n",
       "    <tr>\n",
       "      <th>16</th>\n",
       "      <td>2.748394</td>\n",
       "      <td>레바논</td>\n",
       "    </tr>\n",
       "    <tr>\n",
       "      <th>17</th>\n",
       "      <td>8.491309</td>\n",
       "      <td>터키</td>\n",
       "    </tr>\n",
       "    <tr>\n",
       "      <th>18</th>\n",
       "      <td>3.510609</td>\n",
       "      <td>튀니지</td>\n",
       "    </tr>\n",
       "    <tr>\n",
       "      <th>19</th>\n",
       "      <td>1.764572</td>\n",
       "      <td>이집트</td>\n",
       "    </tr>\n",
       "    <tr>\n",
       "      <th>20</th>\n",
       "      <td>3.400000</td>\n",
       "      <td>시리아</td>\n",
       "    </tr>\n",
       "    <tr>\n",
       "      <th>21</th>\n",
       "      <td>-0.790000</td>\n",
       "      <td>리비아</td>\n",
       "    </tr>\n",
       "  </tbody>\n",
       "</table>\n",
       "</div>"
      ],
      "text/plain": [
       "    당해 GDP 성장율     국가\n",
       "0     0.240000   이탈리아\n",
       "1     1.370000    스페인\n",
       "2     1.724881    프랑스\n",
       "3     1.390000     영국\n",
       "4    -3.289882   불가리아\n",
       "5     4.223625   볼리비아\n",
       "6     4.024653     칠레\n",
       "7    -3.800000  베네수엘라\n",
       "8     3.004823    브라질\n",
       "9    -7.306609    필리핀\n",
       "10    4.185868     중국\n",
       "11    2.276921     홍콩\n",
       "12    2.762394     홍콩\n",
       "13   12.467266   대한민국\n",
       "14    2.929305   대한민국\n",
       "15   11.991435    미얀마\n",
       "16    2.748394    레바논\n",
       "17    8.491309     터키\n",
       "18    3.510609    튀니지\n",
       "19    1.764572    이집트\n",
       "20    3.400000    시리아\n",
       "21   -0.790000    리비아"
      ]
     },
     "execution_count": 82,
     "metadata": {},
     "output_type": "execute_result"
    }
   ],
   "source": [
    "data[['당해 GDP 성장율', '국가']]"
   ]
  },
  {
   "cell_type": "markdown",
   "metadata": {},
   "source": [
    "**예제 3.1. 판다스 데이터프레임의 `columns` 속성을 통해 데이터프레임의 컬럼 이름들에 접근할 수 있습니다. 위에서 읽어온 `titanic` 데이터의 컬럼 이름을 확인하고, 원하는 컬럼을 추출해보세요.**"
   ]
  },
  {
   "cell_type": "code",
   "execution_count": 83,
   "metadata": {},
   "outputs": [
    {
     "data": {
      "text/plain": [
       "Index(['PassengerId', 'Survived', 'Pclass', 'Name', 'Sex', 'Age', 'SibSp',\n",
       "       'Parch', 'Ticket', 'Fare', 'Cabin', 'Embarked'],\n",
       "      dtype='object')"
      ]
     },
     "execution_count": 83,
     "metadata": {},
     "output_type": "execute_result"
    }
   ],
   "source": [
    "titanic.columns"
   ]
  },
  {
   "cell_type": "markdown",
   "metadata": {},
   "source": [
    "## 3.2. 필터링 \n",
    "\n",
    "### 필터링의 원리: 마스킹\n",
    "\n",
    "\n",
    "필터링은 특정 변수에 대해 원하는 조건을 만족하는 행을 걸러내는 조작입니다. 위에서 만들어둔 `purchases` 데이터를 예로 들어보겠습니다. `purchases` 데이터에서 사과를 1개 이상 구매한 사람들만을 걸러내려고 합니다. 이를 위해 먼저 **각 행들에 대해서 `apples` 컬럼의 값이 0보다 큰지를 판단합니다. 이 결과는 `[True, True, False, True]` 입니다. 이 결과를 행에 덮어씌워서, `True`만을 남기고 `False`는 떨어뜨립니다.**\n",
    "\n",
    "\n",
    " "
   ]
  },
  {
   "cell_type": "markdown",
   "metadata": {},
   "source": [
    "**purchases 데이터프레임**\n",
    "\n",
    "Index|apples|oranges\n",
    "---|---|---\n",
    "June|3|0\n",
    "Robert|2|3\n",
    "Lily|0|7\n",
    "David|1|2\n",
    "  \n",
    "  "
   ]
  },
  {
   "cell_type": "markdown",
   "metadata": {},
   "source": [
    "**마스킹: 사과를 샀는가?**\n",
    "\n",
    "Index|apples|oranges|사과를 샀는가?\n",
    "---|---|---|---\n",
    "June|3|0|True\n",
    "Robert|2|3|True\n",
    "~~Lily~~|~~0~~|~~7~~|~~False~~\n",
    "David|1|2|True\n",
    "  "
   ]
  },
  {
   "cell_type": "markdown",
   "metadata": {},
   "source": [
    "위 과정을 판다스로 구현해보겠습니다. 먼저 사과 구매에 해당하는 변수인 `apples`를 선택해야 합니다. 다음으로 `purchases.apples` 에 대해서, 각각의 값이 `0` 보다 큰지를 판단해주면 됩니다. 연산을 실행한 결과는 `[True, True, False, True]` 의 불리언 시리즈입니다. 이러한 연산이 가능한 것은 넘파이의 브로드캐스팅 때문입니다."
   ]
  },
  {
   "cell_type": "markdown",
   "metadata": {},
   "source": [
    "**1. 변수 선택**"
   ]
  },
  {
   "cell_type": "code",
   "execution_count": 84,
   "metadata": {},
   "outputs": [
    {
     "data": {
      "text/plain": [
       "June      3\n",
       "Robert    2\n",
       "Lily      0\n",
       "David     1\n",
       "Name: apples, dtype: int64"
      ]
     },
     "execution_count": 84,
     "metadata": {},
     "output_type": "execute_result"
    }
   ],
   "source": [
    "purchases.apples"
   ]
  },
  {
   "cell_type": "markdown",
   "metadata": {},
   "source": [
    "**2. 조건 판단: 브로드캐스팅**"
   ]
  },
  {
   "cell_type": "code",
   "execution_count": 85,
   "metadata": {},
   "outputs": [
    {
     "data": {
      "text/plain": [
       "June       True\n",
       "Robert     True\n",
       "Lily      False\n",
       "David      True\n",
       "Name: apples, dtype: bool"
      ]
     },
     "execution_count": 85,
     "metadata": {},
     "output_type": "execute_result"
    }
   ],
   "source": [
    "purchases.apples >= 1"
   ]
  },
  {
   "cell_type": "markdown",
   "metadata": {},
   "source": [
    "**3. 마스킹**"
   ]
  },
  {
   "cell_type": "code",
   "execution_count": 86,
   "metadata": {},
   "outputs": [
    {
     "data": {
      "text/html": [
       "<div>\n",
       "<style scoped>\n",
       "    .dataframe tbody tr th:only-of-type {\n",
       "        vertical-align: middle;\n",
       "    }\n",
       "\n",
       "    .dataframe tbody tr th {\n",
       "        vertical-align: top;\n",
       "    }\n",
       "\n",
       "    .dataframe thead th {\n",
       "        text-align: right;\n",
       "    }\n",
       "</style>\n",
       "<table border=\"1\" class=\"dataframe\">\n",
       "  <thead>\n",
       "    <tr style=\"text-align: right;\">\n",
       "      <th></th>\n",
       "      <th>apples</th>\n",
       "      <th>oranges</th>\n",
       "    </tr>\n",
       "  </thead>\n",
       "  <tbody>\n",
       "    <tr>\n",
       "      <th>June</th>\n",
       "      <td>3</td>\n",
       "      <td>0</td>\n",
       "    </tr>\n",
       "    <tr>\n",
       "      <th>Robert</th>\n",
       "      <td>2</td>\n",
       "      <td>3</td>\n",
       "    </tr>\n",
       "    <tr>\n",
       "      <th>Lily</th>\n",
       "      <td>0</td>\n",
       "      <td>7</td>\n",
       "    </tr>\n",
       "    <tr>\n",
       "      <th>David</th>\n",
       "      <td>1</td>\n",
       "      <td>2</td>\n",
       "    </tr>\n",
       "  </tbody>\n",
       "</table>\n",
       "</div>"
      ],
      "text/plain": [
       "        apples  oranges\n",
       "June         3        0\n",
       "Robert       2        3\n",
       "Lily         0        7\n",
       "David        1        2"
      ]
     },
     "execution_count": 86,
     "metadata": {},
     "output_type": "execute_result"
    }
   ],
   "source": [
    "purchases"
   ]
  },
  {
   "cell_type": "code",
   "execution_count": 87,
   "metadata": {},
   "outputs": [
    {
     "data": {
      "text/html": [
       "<div>\n",
       "<style scoped>\n",
       "    .dataframe tbody tr th:only-of-type {\n",
       "        vertical-align: middle;\n",
       "    }\n",
       "\n",
       "    .dataframe tbody tr th {\n",
       "        vertical-align: top;\n",
       "    }\n",
       "\n",
       "    .dataframe thead th {\n",
       "        text-align: right;\n",
       "    }\n",
       "</style>\n",
       "<table border=\"1\" class=\"dataframe\">\n",
       "  <thead>\n",
       "    <tr style=\"text-align: right;\">\n",
       "      <th></th>\n",
       "      <th>apples</th>\n",
       "      <th>oranges</th>\n",
       "    </tr>\n",
       "  </thead>\n",
       "  <tbody>\n",
       "    <tr>\n",
       "      <th>Robert</th>\n",
       "      <td>2</td>\n",
       "      <td>3</td>\n",
       "    </tr>\n",
       "    <tr>\n",
       "      <th>David</th>\n",
       "      <td>1</td>\n",
       "      <td>2</td>\n",
       "    </tr>\n",
       "  </tbody>\n",
       "</table>\n",
       "</div>"
      ],
      "text/plain": [
       "        apples  oranges\n",
       "Robert       2        3\n",
       "David        1        2"
      ]
     },
     "execution_count": 87,
     "metadata": {},
     "output_type": "execute_result"
    }
   ],
   "source": [
    "purchases[[False, True, False, True]]"
   ]
  },
  {
   "cell_type": "markdown",
   "metadata": {},
   "source": [
    "$$ Numpy \\space Broadcasting: \n",
    "\\begin{pmatrix}\n",
    "3 > 0\\\\\n",
    "2 > 0\\\\\n",
    "0 > 0\\\\\n",
    "1 > 0\\\\\n",
    "\\end{pmatrix}\n",
    "=\n",
    "\\begin{pmatrix}\n",
    "True\\\\\n",
    "True\\\\\n",
    "False\\\\\n",
    "True\\\\\n",
    "\\end{pmatrix}\n",
    "$$\n",
    "  \n",
    "\n",
    "\n",
    "이제 이 결과를 통해 행을 인덱싱해주면 끝입니다. 데이터프레임 옆에 대괄호`[]`를 적고, 대괄호 안에 완성된 불리언 시리즈를 넣어주면, 조건이 `True`인 행들만 추출됩니다. 데이터 프레임 위에 `True`, `False`로 된 시리즈를 덧붙여서 `True`만 남긴다고 생각하시면 됩니다.\n",
    "\n",
    "\n",
    "**예제 3.2. 타이타닉 데이터에서 성별이 여성인 데이터만 골라낸 후, 생존 여부 변수를 선택하세요.**"
   ]
  },
  {
   "cell_type": "code",
   "execution_count": 88,
   "metadata": {},
   "outputs": [
    {
     "data": {
      "text/plain": [
       "array(['male', 'female'], dtype=object)"
      ]
     },
     "execution_count": 88,
     "metadata": {},
     "output_type": "execute_result"
    }
   ],
   "source": [
    "titanic.Sex.unique()"
   ]
  },
  {
   "cell_type": "code",
   "execution_count": 89,
   "metadata": {},
   "outputs": [
    {
     "data": {
      "text/plain": [
       "1      1\n",
       "2      1\n",
       "3      1\n",
       "8      1\n",
       "9      1\n",
       "      ..\n",
       "880    1\n",
       "882    0\n",
       "885    0\n",
       "887    1\n",
       "888    0\n",
       "Name: Survived, Length: 314, dtype: int64"
      ]
     },
     "execution_count": 89,
     "metadata": {},
     "output_type": "execute_result"
    }
   ],
   "source": [
    "titanic[titanic.Sex == \"female\"].Survived"
   ]
  },
  {
   "cell_type": "markdown",
   "metadata": {},
   "source": [
    "**풀이**\n",
    "\n",
    "타이타닉 데이터에서 성별과 생존 여부를 나타내는 컬럼은 `Sex`와 `Survived` 입니다. `titanic.Sex=='female'` 이라는 조건을 걸어서 데이터프레임을 필터링해주고, 필터링된 데이터에서 `Survived` 변수를 선택해주면 끝입니다."
   ]
  },
  {
   "cell_type": "code",
   "execution_count": 90,
   "metadata": {},
   "outputs": [
    {
     "data": {
      "text/plain": [
       "1      1\n",
       "2      1\n",
       "3      1\n",
       "8      1\n",
       "9      1\n",
       "      ..\n",
       "880    1\n",
       "882    0\n",
       "885    0\n",
       "887    1\n",
       "888    0\n",
       "Name: Survived, Length: 314, dtype: int64"
      ]
     },
     "execution_count": 90,
     "metadata": {},
     "output_type": "execute_result"
    }
   ],
   "source": [
    "titanic[titanic.Sex=='female'].Survived"
   ]
  },
  {
   "cell_type": "markdown",
   "metadata": {},
   "source": [
    "### 다중 조건으로 필터링\n",
    "\n",
    "다중 조건을 걸 때에도, 문제는 결국 하나의 불리언 시리즈를 만들어내는 것입니다. `&`, `|` 의 논리 연산을 적절하게 활용하면 어렵지 않게 다중 조건 필터링을 구현할 수 있습니다. `purchases` 데이터의 예시를 다시 보겠습니다. 이번에는 사과와 오렌지를 모두 구매한 사람들을 골라내려고 합니다. 사과와 오렌지에 대해서 각각 0보다 큰지를 판단합니다. 이후 두 개의 조건을 연결해주면 됩니다. 우리의 관심은 **\"사과와 오렌지를 모두 샀는가?\"** 이므로 논리연산으로는 `&`에 해당합니다. "
   ]
  },
  {
   "cell_type": "markdown",
   "metadata": {},
   "source": [
    "**purchases 데이터프레임**\n",
    "\n",
    "Index|apples|oranges|사과를 샀는가?|오렌지를 샀는가?|사과와 오렌지를 모두 샀는가?\n",
    "---|---|---|---|---|---\n",
    "~~June~~|~~3~~|~~0~~|~~True~~|~~False~~|~~False~~\n",
    "Robert|2|3|True|True|True\n",
    "~~Lily~~|~~0~~|~~7~~|~~False~~|~~True~~|~~False~~\n",
    "David|1|2|True|True|True\n"
   ]
  },
  {
   "cell_type": "markdown",
   "metadata": {},
   "source": [
    "위와 같은 조작을 판다스로 구현해보겠습니다. 먼저 `apples` 와 `oranges`에 대해서 각각 0보다 큰지를 판단합니다. 이 두 개의 조건은 `&` 연산으로 묶어주고, 마찬가지로 대괄호 안에 넣어서 마스킹해주면 끝입니다. 역시 넘파이의 연산 특성으로 인해서 같은 위치에 있는 요소들끼리 `&` 연산이 실행됩니다."
   ]
  },
  {
   "cell_type": "markdown",
   "metadata": {},
   "source": [
    "**1. 사과를 샀는가?**"
   ]
  },
  {
   "cell_type": "code",
   "execution_count": 91,
   "metadata": {},
   "outputs": [
    {
     "data": {
      "text/plain": [
       "June       True\n",
       "Robert     True\n",
       "Lily      False\n",
       "David      True\n",
       "Name: apples, dtype: bool"
      ]
     },
     "execution_count": 91,
     "metadata": {},
     "output_type": "execute_result"
    }
   ],
   "source": [
    "purchases.apples > 0"
   ]
  },
  {
   "cell_type": "markdown",
   "metadata": {},
   "source": [
    "**2. 오렌지를 샀는가?**"
   ]
  },
  {
   "cell_type": "code",
   "execution_count": 92,
   "metadata": {},
   "outputs": [
    {
     "data": {
      "text/plain": [
       "June      False\n",
       "Robert     True\n",
       "Lily       True\n",
       "David      True\n",
       "Name: oranges, dtype: bool"
      ]
     },
     "execution_count": 92,
     "metadata": {},
     "output_type": "execute_result"
    }
   ],
   "source": [
    "purchases.oranges > 0"
   ]
  },
  {
   "cell_type": "markdown",
   "metadata": {},
   "source": [
    "  \n",
    "**3. 사과와 오렌지를 샀는가?**"
   ]
  },
  {
   "cell_type": "code",
   "execution_count": 93,
   "metadata": {},
   "outputs": [
    {
     "data": {
      "text/plain": [
       "June      False\n",
       "Robert     True\n",
       "Lily      False\n",
       "David      True\n",
       "dtype: bool"
      ]
     },
     "execution_count": 93,
     "metadata": {},
     "output_type": "execute_result"
    }
   ],
   "source": [
    "(purchases.apples > 0) & (purchases.oranges > 0)"
   ]
  },
  {
   "cell_type": "markdown",
   "metadata": {},
   "source": [
    "**4. 마스킹**"
   ]
  },
  {
   "cell_type": "code",
   "execution_count": 94,
   "metadata": {},
   "outputs": [
    {
     "data": {
      "text/html": [
       "<div>\n",
       "<style scoped>\n",
       "    .dataframe tbody tr th:only-of-type {\n",
       "        vertical-align: middle;\n",
       "    }\n",
       "\n",
       "    .dataframe tbody tr th {\n",
       "        vertical-align: top;\n",
       "    }\n",
       "\n",
       "    .dataframe thead th {\n",
       "        text-align: right;\n",
       "    }\n",
       "</style>\n",
       "<table border=\"1\" class=\"dataframe\">\n",
       "  <thead>\n",
       "    <tr style=\"text-align: right;\">\n",
       "      <th></th>\n",
       "      <th>apples</th>\n",
       "      <th>oranges</th>\n",
       "    </tr>\n",
       "  </thead>\n",
       "  <tbody>\n",
       "    <tr>\n",
       "      <th>Robert</th>\n",
       "      <td>2</td>\n",
       "      <td>3</td>\n",
       "    </tr>\n",
       "    <tr>\n",
       "      <th>David</th>\n",
       "      <td>1</td>\n",
       "      <td>2</td>\n",
       "    </tr>\n",
       "  </tbody>\n",
       "</table>\n",
       "</div>"
      ],
      "text/plain": [
       "        apples  oranges\n",
       "Robert       2        3\n",
       "David        1        2"
      ]
     },
     "execution_count": 94,
     "metadata": {},
     "output_type": "execute_result"
    }
   ],
   "source": [
    "purchases[(purchases.apples > 0) & (purchases.oranges > 0)]"
   ]
  },
  {
   "cell_type": "markdown",
   "metadata": {},
   "source": [
    "  \n",
    "$$\n",
    "\\begin{pmatrix}\n",
    "True \\space and \\space False \\\\\n",
    "True \\space and \\space True \\\\\n",
    "False \\space and \\space True \\\\\n",
    "True \\space and \\space True\n",
    "\\end{pmatrix}\n",
    "=\n",
    "\\begin{pmatrix}\n",
    "False \\\\\n",
    "True \\\\\n",
    "False \\\\\n",
    "True\n",
    "\\end{pmatrix}\n",
    "$$\n",
    "  "
   ]
  },
  {
   "cell_type": "markdown",
   "metadata": {},
   "source": [
    "**예제 3.3. 타이타닉 데이터에서 30세 이상 남성이거나 30세 이하 여성인 행들을 골라내세요.**\n",
    "\n",
    "**풀이**\n",
    "\n",
    "주어진 조건을 논리연산자, 비교연산자를 사용해서 표현하면 다음과 같습니다. \n",
    "\n",
    "1. (30세 이상 남성) or (30세 이하 여성)\n",
    "2. (30세 이상 and 남성) or (30세 이하 and 여성)\n",
    "3. {(나이 >= 30) and (성별 == 남성)} or {(나이 <= 30) and (성별 == 여성)}\n",
    "\n",
    "이 결과를 코드 한 줄로 적으면 너무 길어지므로, 두 개의 조건으로 분해해서 적어보겠습니다. `cond1` 은 30세 이상 남성에 해당하는 조건이고, `cond2`는 30세 이하 여성에 해당하는 조건입니다. 두 개의 조건을 `|` 으로 묶어주고 마스킹해주면 끝입니다. "
   ]
  },
  {
   "cell_type": "code",
   "execution_count": 95,
   "metadata": {},
   "outputs": [
    {
     "data": {
      "text/plain": [
       "0      False\n",
       "1      False\n",
       "2       True\n",
       "3      False\n",
       "4       True\n",
       "       ...  \n",
       "886    False\n",
       "887     True\n",
       "888    False\n",
       "889    False\n",
       "890     True\n",
       "Length: 891, dtype: bool"
      ]
     },
     "execution_count": 95,
     "metadata": {},
     "output_type": "execute_result"
    }
   ],
   "source": [
    "cond1 = (titanic.Age >= 30) & (titanic.Sex == \"male\")\n",
    "cond2 = (titanic.Age <= 30) & (titanic.Sex == \"female\")\n",
    "cond1 | cond2"
   ]
  },
  {
   "cell_type": "code",
   "execution_count": 96,
   "metadata": {},
   "outputs": [
    {
     "data": {
      "text/html": [
       "<div>\n",
       "<style scoped>\n",
       "    .dataframe tbody tr th:only-of-type {\n",
       "        vertical-align: middle;\n",
       "    }\n",
       "\n",
       "    .dataframe tbody tr th {\n",
       "        vertical-align: top;\n",
       "    }\n",
       "\n",
       "    .dataframe thead th {\n",
       "        text-align: right;\n",
       "    }\n",
       "</style>\n",
       "<table border=\"1\" class=\"dataframe\">\n",
       "  <thead>\n",
       "    <tr style=\"text-align: right;\">\n",
       "      <th></th>\n",
       "      <th>PassengerId</th>\n",
       "      <th>Survived</th>\n",
       "      <th>Pclass</th>\n",
       "      <th>Name</th>\n",
       "      <th>Sex</th>\n",
       "      <th>Age</th>\n",
       "      <th>SibSp</th>\n",
       "      <th>Parch</th>\n",
       "      <th>Ticket</th>\n",
       "      <th>Fare</th>\n",
       "      <th>Cabin</th>\n",
       "      <th>Embarked</th>\n",
       "    </tr>\n",
       "  </thead>\n",
       "  <tbody>\n",
       "    <tr>\n",
       "      <th>2</th>\n",
       "      <td>3</td>\n",
       "      <td>1</td>\n",
       "      <td>3</td>\n",
       "      <td>Heikkinen, Miss. Laina</td>\n",
       "      <td>female</td>\n",
       "      <td>26.0</td>\n",
       "      <td>0</td>\n",
       "      <td>0</td>\n",
       "      <td>STON/O2. 3101282</td>\n",
       "      <td>7.9250</td>\n",
       "      <td>NaN</td>\n",
       "      <td>S</td>\n",
       "    </tr>\n",
       "    <tr>\n",
       "      <th>4</th>\n",
       "      <td>5</td>\n",
       "      <td>0</td>\n",
       "      <td>3</td>\n",
       "      <td>Allen, Mr. William Henry</td>\n",
       "      <td>male</td>\n",
       "      <td>35.0</td>\n",
       "      <td>0</td>\n",
       "      <td>0</td>\n",
       "      <td>373450</td>\n",
       "      <td>8.0500</td>\n",
       "      <td>NaN</td>\n",
       "      <td>S</td>\n",
       "    </tr>\n",
       "    <tr>\n",
       "      <th>6</th>\n",
       "      <td>7</td>\n",
       "      <td>0</td>\n",
       "      <td>1</td>\n",
       "      <td>McCarthy, Mr. Timothy J</td>\n",
       "      <td>male</td>\n",
       "      <td>54.0</td>\n",
       "      <td>0</td>\n",
       "      <td>0</td>\n",
       "      <td>17463</td>\n",
       "      <td>51.8625</td>\n",
       "      <td>E46</td>\n",
       "      <td>S</td>\n",
       "    </tr>\n",
       "    <tr>\n",
       "      <th>8</th>\n",
       "      <td>9</td>\n",
       "      <td>1</td>\n",
       "      <td>3</td>\n",
       "      <td>Johnson, Mrs. Oscar W (Elisabeth Vilhelmina Berg)</td>\n",
       "      <td>female</td>\n",
       "      <td>27.0</td>\n",
       "      <td>0</td>\n",
       "      <td>2</td>\n",
       "      <td>347742</td>\n",
       "      <td>11.1333</td>\n",
       "      <td>NaN</td>\n",
       "      <td>S</td>\n",
       "    </tr>\n",
       "    <tr>\n",
       "      <th>9</th>\n",
       "      <td>10</td>\n",
       "      <td>1</td>\n",
       "      <td>2</td>\n",
       "      <td>Nasser, Mrs. Nicholas (Adele Achem)</td>\n",
       "      <td>female</td>\n",
       "      <td>14.0</td>\n",
       "      <td>1</td>\n",
       "      <td>0</td>\n",
       "      <td>237736</td>\n",
       "      <td>30.0708</td>\n",
       "      <td>NaN</td>\n",
       "      <td>C</td>\n",
       "    </tr>\n",
       "    <tr>\n",
       "      <th>...</th>\n",
       "      <td>...</td>\n",
       "      <td>...</td>\n",
       "      <td>...</td>\n",
       "      <td>...</td>\n",
       "      <td>...</td>\n",
       "      <td>...</td>\n",
       "      <td>...</td>\n",
       "      <td>...</td>\n",
       "      <td>...</td>\n",
       "      <td>...</td>\n",
       "      <td>...</td>\n",
       "      <td>...</td>\n",
       "    </tr>\n",
       "    <tr>\n",
       "      <th>880</th>\n",
       "      <td>881</td>\n",
       "      <td>1</td>\n",
       "      <td>2</td>\n",
       "      <td>Shelley, Mrs. William (Imanita Parrish Hall)</td>\n",
       "      <td>female</td>\n",
       "      <td>25.0</td>\n",
       "      <td>0</td>\n",
       "      <td>1</td>\n",
       "      <td>230433</td>\n",
       "      <td>26.0000</td>\n",
       "      <td>NaN</td>\n",
       "      <td>S</td>\n",
       "    </tr>\n",
       "    <tr>\n",
       "      <th>881</th>\n",
       "      <td>882</td>\n",
       "      <td>0</td>\n",
       "      <td>3</td>\n",
       "      <td>Markun, Mr. Johann</td>\n",
       "      <td>male</td>\n",
       "      <td>33.0</td>\n",
       "      <td>0</td>\n",
       "      <td>0</td>\n",
       "      <td>349257</td>\n",
       "      <td>7.8958</td>\n",
       "      <td>NaN</td>\n",
       "      <td>S</td>\n",
       "    </tr>\n",
       "    <tr>\n",
       "      <th>882</th>\n",
       "      <td>883</td>\n",
       "      <td>0</td>\n",
       "      <td>3</td>\n",
       "      <td>Dahlberg, Miss. Gerda Ulrika</td>\n",
       "      <td>female</td>\n",
       "      <td>22.0</td>\n",
       "      <td>0</td>\n",
       "      <td>0</td>\n",
       "      <td>7552</td>\n",
       "      <td>10.5167</td>\n",
       "      <td>NaN</td>\n",
       "      <td>S</td>\n",
       "    </tr>\n",
       "    <tr>\n",
       "      <th>887</th>\n",
       "      <td>888</td>\n",
       "      <td>1</td>\n",
       "      <td>1</td>\n",
       "      <td>Graham, Miss. Margaret Edith</td>\n",
       "      <td>female</td>\n",
       "      <td>19.0</td>\n",
       "      <td>0</td>\n",
       "      <td>0</td>\n",
       "      <td>112053</td>\n",
       "      <td>30.0000</td>\n",
       "      <td>B42</td>\n",
       "      <td>S</td>\n",
       "    </tr>\n",
       "    <tr>\n",
       "      <th>890</th>\n",
       "      <td>891</td>\n",
       "      <td>0</td>\n",
       "      <td>3</td>\n",
       "      <td>Dooley, Mr. Patrick</td>\n",
       "      <td>male</td>\n",
       "      <td>32.0</td>\n",
       "      <td>0</td>\n",
       "      <td>0</td>\n",
       "      <td>370376</td>\n",
       "      <td>7.7500</td>\n",
       "      <td>NaN</td>\n",
       "      <td>Q</td>\n",
       "    </tr>\n",
       "  </tbody>\n",
       "</table>\n",
       "<p>374 rows × 12 columns</p>\n",
       "</div>"
      ],
      "text/plain": [
       "     PassengerId  Survived  Pclass  \\\n",
       "2              3         1       3   \n",
       "4              5         0       3   \n",
       "6              7         0       1   \n",
       "8              9         1       3   \n",
       "9             10         1       2   \n",
       "..           ...       ...     ...   \n",
       "880          881         1       2   \n",
       "881          882         0       3   \n",
       "882          883         0       3   \n",
       "887          888         1       1   \n",
       "890          891         0       3   \n",
       "\n",
       "                                                  Name     Sex   Age  SibSp  \\\n",
       "2                               Heikkinen, Miss. Laina  female  26.0      0   \n",
       "4                             Allen, Mr. William Henry    male  35.0      0   \n",
       "6                              McCarthy, Mr. Timothy J    male  54.0      0   \n",
       "8    Johnson, Mrs. Oscar W (Elisabeth Vilhelmina Berg)  female  27.0      0   \n",
       "9                  Nasser, Mrs. Nicholas (Adele Achem)  female  14.0      1   \n",
       "..                                                 ...     ...   ...    ...   \n",
       "880       Shelley, Mrs. William (Imanita Parrish Hall)  female  25.0      0   \n",
       "881                                 Markun, Mr. Johann    male  33.0      0   \n",
       "882                       Dahlberg, Miss. Gerda Ulrika  female  22.0      0   \n",
       "887                       Graham, Miss. Margaret Edith  female  19.0      0   \n",
       "890                                Dooley, Mr. Patrick    male  32.0      0   \n",
       "\n",
       "     Parch            Ticket     Fare Cabin Embarked  \n",
       "2        0  STON/O2. 3101282   7.9250   NaN        S  \n",
       "4        0            373450   8.0500   NaN        S  \n",
       "6        0             17463  51.8625   E46        S  \n",
       "8        2            347742  11.1333   NaN        S  \n",
       "9        0            237736  30.0708   NaN        C  \n",
       "..     ...               ...      ...   ...      ...  \n",
       "880      1            230433  26.0000   NaN        S  \n",
       "881      0            349257   7.8958   NaN        S  \n",
       "882      0              7552  10.5167   NaN        S  \n",
       "887      0            112053  30.0000   B42        S  \n",
       "890      0            370376   7.7500   NaN        Q  \n",
       "\n",
       "[374 rows x 12 columns]"
      ]
     },
     "execution_count": 96,
     "metadata": {},
     "output_type": "execute_result"
    }
   ],
   "source": [
    "titanic[cond1 | cond2]"
   ]
  },
  {
   "cell_type": "markdown",
   "metadata": {},
   "source": [
    "## 3.3. 정렬\n",
    "\n",
    "`sort_values` 메소드는 시리즈나 데이터프레임을 크기 순으로 정렬합니다. 시리즈는 건너뛰고, 데이터프레임 정렬에 대해서만 다루도록 하겠습니다. `sort_values(컬럼)` 과 같이 적으면 주어진 컬럼의 오름차순으로 데이터프레임을 정렬합니다. `ascending=False`를 전달하면 내림차순으로 정렬합니다."
   ]
  },
  {
   "cell_type": "code",
   "execution_count": 97,
   "metadata": {},
   "outputs": [
    {
     "data": {
      "text/html": [
       "<div>\n",
       "<style scoped>\n",
       "    .dataframe tbody tr th:only-of-type {\n",
       "        vertical-align: middle;\n",
       "    }\n",
       "\n",
       "    .dataframe tbody tr th {\n",
       "        vertical-align: top;\n",
       "    }\n",
       "\n",
       "    .dataframe thead th {\n",
       "        text-align: right;\n",
       "    }\n",
       "</style>\n",
       "<table border=\"1\" class=\"dataframe\">\n",
       "  <thead>\n",
       "    <tr style=\"text-align: right;\">\n",
       "      <th></th>\n",
       "      <th>apples</th>\n",
       "      <th>oranges</th>\n",
       "    </tr>\n",
       "  </thead>\n",
       "  <tbody>\n",
       "    <tr>\n",
       "      <th>Lily</th>\n",
       "      <td>0</td>\n",
       "      <td>7</td>\n",
       "    </tr>\n",
       "    <tr>\n",
       "      <th>David</th>\n",
       "      <td>1</td>\n",
       "      <td>2</td>\n",
       "    </tr>\n",
       "    <tr>\n",
       "      <th>Robert</th>\n",
       "      <td>2</td>\n",
       "      <td>3</td>\n",
       "    </tr>\n",
       "    <tr>\n",
       "      <th>June</th>\n",
       "      <td>3</td>\n",
       "      <td>0</td>\n",
       "    </tr>\n",
       "  </tbody>\n",
       "</table>\n",
       "</div>"
      ],
      "text/plain": [
       "        apples  oranges\n",
       "Lily         0        7\n",
       "David        1        2\n",
       "Robert       2        3\n",
       "June         3        0"
      ]
     },
     "execution_count": 97,
     "metadata": {},
     "output_type": "execute_result"
    }
   ],
   "source": [
    "purchases.sort_values(\"apples\")"
   ]
  },
  {
   "cell_type": "code",
   "execution_count": 98,
   "metadata": {},
   "outputs": [
    {
     "data": {
      "text/html": [
       "<div>\n",
       "<style scoped>\n",
       "    .dataframe tbody tr th:only-of-type {\n",
       "        vertical-align: middle;\n",
       "    }\n",
       "\n",
       "    .dataframe tbody tr th {\n",
       "        vertical-align: top;\n",
       "    }\n",
       "\n",
       "    .dataframe thead th {\n",
       "        text-align: right;\n",
       "    }\n",
       "</style>\n",
       "<table border=\"1\" class=\"dataframe\">\n",
       "  <thead>\n",
       "    <tr style=\"text-align: right;\">\n",
       "      <th></th>\n",
       "      <th>apples</th>\n",
       "      <th>oranges</th>\n",
       "    </tr>\n",
       "  </thead>\n",
       "  <tbody>\n",
       "    <tr>\n",
       "      <th>June</th>\n",
       "      <td>3</td>\n",
       "      <td>0</td>\n",
       "    </tr>\n",
       "    <tr>\n",
       "      <th>Robert</th>\n",
       "      <td>2</td>\n",
       "      <td>3</td>\n",
       "    </tr>\n",
       "    <tr>\n",
       "      <th>David</th>\n",
       "      <td>1</td>\n",
       "      <td>2</td>\n",
       "    </tr>\n",
       "    <tr>\n",
       "      <th>Lily</th>\n",
       "      <td>0</td>\n",
       "      <td>7</td>\n",
       "    </tr>\n",
       "  </tbody>\n",
       "</table>\n",
       "</div>"
      ],
      "text/plain": [
       "        apples  oranges\n",
       "June         3        0\n",
       "Robert       2        3\n",
       "David        1        2\n",
       "Lily         0        7"
      ]
     },
     "execution_count": 98,
     "metadata": {},
     "output_type": "execute_result"
    }
   ],
   "source": [
    "purchases.sort_values(\"apples\", ascending=False)"
   ]
  },
  {
   "cell_type": "markdown",
   "metadata": {},
   "source": [
    "**예제 3.4. 타이타닉 데이터에서 나이가 30세 이상인 행들만을 걸러내고 나이 오름차순으로 정렬해주세요.**\n",
    "\n",
    "**풀이**"
   ]
  },
  {
   "cell_type": "code",
   "execution_count": 99,
   "metadata": {},
   "outputs": [
    {
     "data": {
      "text/html": [
       "<div>\n",
       "<style scoped>\n",
       "    .dataframe tbody tr th:only-of-type {\n",
       "        vertical-align: middle;\n",
       "    }\n",
       "\n",
       "    .dataframe tbody tr th {\n",
       "        vertical-align: top;\n",
       "    }\n",
       "\n",
       "    .dataframe thead th {\n",
       "        text-align: right;\n",
       "    }\n",
       "</style>\n",
       "<table border=\"1\" class=\"dataframe\">\n",
       "  <thead>\n",
       "    <tr style=\"text-align: right;\">\n",
       "      <th></th>\n",
       "      <th>PassengerId</th>\n",
       "      <th>Survived</th>\n",
       "      <th>Pclass</th>\n",
       "      <th>Name</th>\n",
       "      <th>Sex</th>\n",
       "      <th>Age</th>\n",
       "      <th>SibSp</th>\n",
       "      <th>Parch</th>\n",
       "      <th>Ticket</th>\n",
       "      <th>Fare</th>\n",
       "      <th>Cabin</th>\n",
       "      <th>Embarked</th>\n",
       "    </tr>\n",
       "  </thead>\n",
       "  <tbody>\n",
       "    <tr>\n",
       "      <th>606</th>\n",
       "      <td>607</td>\n",
       "      <td>0</td>\n",
       "      <td>3</td>\n",
       "      <td>Karaic, Mr. Milan</td>\n",
       "      <td>male</td>\n",
       "      <td>30.0</td>\n",
       "      <td>0</td>\n",
       "      <td>0</td>\n",
       "      <td>349246</td>\n",
       "      <td>7.8958</td>\n",
       "      <td>NaN</td>\n",
       "      <td>S</td>\n",
       "    </tr>\n",
       "    <tr>\n",
       "      <th>178</th>\n",
       "      <td>179</td>\n",
       "      <td>0</td>\n",
       "      <td>2</td>\n",
       "      <td>Hale, Mr. Reginald</td>\n",
       "      <td>male</td>\n",
       "      <td>30.0</td>\n",
       "      <td>0</td>\n",
       "      <td>0</td>\n",
       "      <td>250653</td>\n",
       "      <td>13.0000</td>\n",
       "      <td>NaN</td>\n",
       "      <td>S</td>\n",
       "    </tr>\n",
       "    <tr>\n",
       "      <th>157</th>\n",
       "      <td>158</td>\n",
       "      <td>0</td>\n",
       "      <td>3</td>\n",
       "      <td>Corn, Mr. Harry</td>\n",
       "      <td>male</td>\n",
       "      <td>30.0</td>\n",
       "      <td>0</td>\n",
       "      <td>0</td>\n",
       "      <td>SOTON/OQ 392090</td>\n",
       "      <td>8.0500</td>\n",
       "      <td>NaN</td>\n",
       "      <td>S</td>\n",
       "    </tr>\n",
       "    <tr>\n",
       "      <th>520</th>\n",
       "      <td>521</td>\n",
       "      <td>1</td>\n",
       "      <td>1</td>\n",
       "      <td>Perreault, Miss. Anne</td>\n",
       "      <td>female</td>\n",
       "      <td>30.0</td>\n",
       "      <td>0</td>\n",
       "      <td>0</td>\n",
       "      <td>12749</td>\n",
       "      <td>93.5000</td>\n",
       "      <td>B73</td>\n",
       "      <td>S</td>\n",
       "    </tr>\n",
       "    <tr>\n",
       "      <th>286</th>\n",
       "      <td>287</td>\n",
       "      <td>1</td>\n",
       "      <td>3</td>\n",
       "      <td>de Mulder, Mr. Theodore</td>\n",
       "      <td>male</td>\n",
       "      <td>30.0</td>\n",
       "      <td>0</td>\n",
       "      <td>0</td>\n",
       "      <td>345774</td>\n",
       "      <td>9.5000</td>\n",
       "      <td>NaN</td>\n",
       "      <td>S</td>\n",
       "    </tr>\n",
       "    <tr>\n",
       "      <th>...</th>\n",
       "      <td>...</td>\n",
       "      <td>...</td>\n",
       "      <td>...</td>\n",
       "      <td>...</td>\n",
       "      <td>...</td>\n",
       "      <td>...</td>\n",
       "      <td>...</td>\n",
       "      <td>...</td>\n",
       "      <td>...</td>\n",
       "      <td>...</td>\n",
       "      <td>...</td>\n",
       "      <td>...</td>\n",
       "    </tr>\n",
       "    <tr>\n",
       "      <th>116</th>\n",
       "      <td>117</td>\n",
       "      <td>0</td>\n",
       "      <td>3</td>\n",
       "      <td>Connors, Mr. Patrick</td>\n",
       "      <td>male</td>\n",
       "      <td>70.5</td>\n",
       "      <td>0</td>\n",
       "      <td>0</td>\n",
       "      <td>370369</td>\n",
       "      <td>7.7500</td>\n",
       "      <td>NaN</td>\n",
       "      <td>Q</td>\n",
       "    </tr>\n",
       "    <tr>\n",
       "      <th>96</th>\n",
       "      <td>97</td>\n",
       "      <td>0</td>\n",
       "      <td>1</td>\n",
       "      <td>Goldschmidt, Mr. George B</td>\n",
       "      <td>male</td>\n",
       "      <td>71.0</td>\n",
       "      <td>0</td>\n",
       "      <td>0</td>\n",
       "      <td>PC 17754</td>\n",
       "      <td>34.6542</td>\n",
       "      <td>A5</td>\n",
       "      <td>C</td>\n",
       "    </tr>\n",
       "    <tr>\n",
       "      <th>493</th>\n",
       "      <td>494</td>\n",
       "      <td>0</td>\n",
       "      <td>1</td>\n",
       "      <td>Artagaveytia, Mr. Ramon</td>\n",
       "      <td>male</td>\n",
       "      <td>71.0</td>\n",
       "      <td>0</td>\n",
       "      <td>0</td>\n",
       "      <td>PC 17609</td>\n",
       "      <td>49.5042</td>\n",
       "      <td>NaN</td>\n",
       "      <td>C</td>\n",
       "    </tr>\n",
       "    <tr>\n",
       "      <th>851</th>\n",
       "      <td>852</td>\n",
       "      <td>0</td>\n",
       "      <td>3</td>\n",
       "      <td>Svensson, Mr. Johan</td>\n",
       "      <td>male</td>\n",
       "      <td>74.0</td>\n",
       "      <td>0</td>\n",
       "      <td>0</td>\n",
       "      <td>347060</td>\n",
       "      <td>7.7750</td>\n",
       "      <td>NaN</td>\n",
       "      <td>S</td>\n",
       "    </tr>\n",
       "    <tr>\n",
       "      <th>630</th>\n",
       "      <td>631</td>\n",
       "      <td>1</td>\n",
       "      <td>1</td>\n",
       "      <td>Barkworth, Mr. Algernon Henry Wilson</td>\n",
       "      <td>male</td>\n",
       "      <td>80.0</td>\n",
       "      <td>0</td>\n",
       "      <td>0</td>\n",
       "      <td>27042</td>\n",
       "      <td>30.0000</td>\n",
       "      <td>A23</td>\n",
       "      <td>S</td>\n",
       "    </tr>\n",
       "  </tbody>\n",
       "</table>\n",
       "<p>330 rows × 12 columns</p>\n",
       "</div>"
      ],
      "text/plain": [
       "     PassengerId  Survived  Pclass                                  Name  \\\n",
       "606          607         0       3                     Karaic, Mr. Milan   \n",
       "178          179         0       2                    Hale, Mr. Reginald   \n",
       "157          158         0       3                       Corn, Mr. Harry   \n",
       "520          521         1       1                 Perreault, Miss. Anne   \n",
       "286          287         1       3               de Mulder, Mr. Theodore   \n",
       "..           ...       ...     ...                                   ...   \n",
       "116          117         0       3                  Connors, Mr. Patrick   \n",
       "96            97         0       1             Goldschmidt, Mr. George B   \n",
       "493          494         0       1               Artagaveytia, Mr. Ramon   \n",
       "851          852         0       3                   Svensson, Mr. Johan   \n",
       "630          631         1       1  Barkworth, Mr. Algernon Henry Wilson   \n",
       "\n",
       "        Sex   Age  SibSp  Parch           Ticket     Fare Cabin Embarked  \n",
       "606    male  30.0      0      0           349246   7.8958   NaN        S  \n",
       "178    male  30.0      0      0           250653  13.0000   NaN        S  \n",
       "157    male  30.0      0      0  SOTON/OQ 392090   8.0500   NaN        S  \n",
       "520  female  30.0      0      0            12749  93.5000   B73        S  \n",
       "286    male  30.0      0      0           345774   9.5000   NaN        S  \n",
       "..      ...   ...    ...    ...              ...      ...   ...      ...  \n",
       "116    male  70.5      0      0           370369   7.7500   NaN        Q  \n",
       "96     male  71.0      0      0         PC 17754  34.6542    A5        C  \n",
       "493    male  71.0      0      0         PC 17609  49.5042   NaN        C  \n",
       "851    male  74.0      0      0           347060   7.7750   NaN        S  \n",
       "630    male  80.0      0      0            27042  30.0000   A23        S  \n",
       "\n",
       "[330 rows x 12 columns]"
      ]
     },
     "execution_count": 99,
     "metadata": {},
     "output_type": "execute_result"
    }
   ],
   "source": [
    "titanic[titanic.Age >= 30].sort_values(\"Age\")"
   ]
  },
  {
   "cell_type": "markdown",
   "metadata": {},
   "source": [
    "## 3.4. 변수 추가\n",
    "\n",
    "`assign` 메소드는 데이터프레임에 새로운 컬럼을 추가합니다. 다른 컬럼들의 정보를 반영하여 새로운 컬럼을 추가하거나, 기존에 가지고 있던 컬럼을 변형하는 경우에 사용할 수 있습니다. 예를 들어 `purchaes` 데이터프레임에서 총 과일 구매 개수를 새로운 열로 추가하려고 한다면, 다음과 같이 쓸 수 있습니다. **새롭게 추가하고자 하는 컬럼의 이름은 문자열이 아니라 변수처럼 써주어야 합니다!** `assign` 메소드는 데이터프레임 직접 변경시키지 않으므로, 결과를 저장하려면 다시 할당을 해주어야 합니다."
   ]
  },
  {
   "cell_type": "code",
   "execution_count": null,
   "metadata": {},
   "outputs": [],
   "source": [
    "데이터프레임.assign(새변수명 = 데이터)"
   ]
  },
  {
   "cell_type": "code",
   "execution_count": 101,
   "metadata": {},
   "outputs": [
    {
     "data": {
      "text/html": [
       "<div>\n",
       "<style scoped>\n",
       "    .dataframe tbody tr th:only-of-type {\n",
       "        vertical-align: middle;\n",
       "    }\n",
       "\n",
       "    .dataframe tbody tr th {\n",
       "        vertical-align: top;\n",
       "    }\n",
       "\n",
       "    .dataframe thead th {\n",
       "        text-align: right;\n",
       "    }\n",
       "</style>\n",
       "<table border=\"1\" class=\"dataframe\">\n",
       "  <thead>\n",
       "    <tr style=\"text-align: right;\">\n",
       "      <th></th>\n",
       "      <th>apples</th>\n",
       "      <th>oranges</th>\n",
       "      <th>total</th>\n",
       "    </tr>\n",
       "  </thead>\n",
       "  <tbody>\n",
       "    <tr>\n",
       "      <th>June</th>\n",
       "      <td>3</td>\n",
       "      <td>0</td>\n",
       "      <td>3</td>\n",
       "    </tr>\n",
       "    <tr>\n",
       "      <th>Robert</th>\n",
       "      <td>2</td>\n",
       "      <td>3</td>\n",
       "      <td>5</td>\n",
       "    </tr>\n",
       "    <tr>\n",
       "      <th>Lily</th>\n",
       "      <td>0</td>\n",
       "      <td>7</td>\n",
       "      <td>7</td>\n",
       "    </tr>\n",
       "    <tr>\n",
       "      <th>David</th>\n",
       "      <td>1</td>\n",
       "      <td>2</td>\n",
       "      <td>3</td>\n",
       "    </tr>\n",
       "  </tbody>\n",
       "</table>\n",
       "</div>"
      ],
      "text/plain": [
       "        apples  oranges  total\n",
       "June         3        0      3\n",
       "Robert       2        3      5\n",
       "Lily         0        7      7\n",
       "David        1        2      3"
      ]
     },
     "execution_count": 101,
     "metadata": {},
     "output_type": "execute_result"
    }
   ],
   "source": [
    "purchases.assign(total = purchases.apples + purchases.oranges)"
   ]
  },
  {
   "cell_type": "markdown",
   "metadata": {},
   "source": [
    "**예제 3.4. 사과가 하나에 500원, 오렌지가 하나에 300원이라고 가정합니다. 고객별로 얼마의 매출이 발생했는지는 나타내는 컬럼을 데이터프레임에 추가해주세요.**"
   ]
  },
  {
   "cell_type": "code",
   "execution_count": 91,
   "metadata": {},
   "outputs": [
    {
     "data": {
      "text/html": [
       "<div>\n",
       "<style scoped>\n",
       "    .dataframe tbody tr th:only-of-type {\n",
       "        vertical-align: middle;\n",
       "    }\n",
       "\n",
       "    .dataframe tbody tr th {\n",
       "        vertical-align: top;\n",
       "    }\n",
       "\n",
       "    .dataframe thead th {\n",
       "        text-align: right;\n",
       "    }\n",
       "</style>\n",
       "<table border=\"1\" class=\"dataframe\">\n",
       "  <thead>\n",
       "    <tr style=\"text-align: right;\">\n",
       "      <th></th>\n",
       "      <th>apples</th>\n",
       "      <th>oranges</th>\n",
       "      <th>married</th>\n",
       "      <th>graduate</th>\n",
       "      <th>amount</th>\n",
       "    </tr>\n",
       "  </thead>\n",
       "  <tbody>\n",
       "    <tr>\n",
       "      <td>June</td>\n",
       "      <td>3</td>\n",
       "      <td>0</td>\n",
       "      <td>0</td>\n",
       "      <td>True</td>\n",
       "      <td>1500</td>\n",
       "    </tr>\n",
       "    <tr>\n",
       "      <td>Robert</td>\n",
       "      <td>2</td>\n",
       "      <td>3</td>\n",
       "      <td>1</td>\n",
       "      <td>True</td>\n",
       "      <td>1900</td>\n",
       "    </tr>\n",
       "    <tr>\n",
       "      <td>Lily</td>\n",
       "      <td>0</td>\n",
       "      <td>7</td>\n",
       "      <td>1</td>\n",
       "      <td>True</td>\n",
       "      <td>2100</td>\n",
       "    </tr>\n",
       "    <tr>\n",
       "      <td>David</td>\n",
       "      <td>1</td>\n",
       "      <td>2</td>\n",
       "      <td>0</td>\n",
       "      <td>False</td>\n",
       "      <td>1100</td>\n",
       "    </tr>\n",
       "  </tbody>\n",
       "</table>\n",
       "</div>"
      ],
      "text/plain": [
       "        apples  oranges  married  graduate  amount\n",
       "June         3        0        0      True    1500\n",
       "Robert       2        3        1      True    1900\n",
       "Lily         0        7        1      True    2100\n",
       "David        1        2        0     False    1100"
      ]
     },
     "execution_count": 91,
     "metadata": {},
     "output_type": "execute_result"
    }
   ],
   "source": []
  },
  {
   "cell_type": "markdown",
   "metadata": {},
   "source": [
    "**풀이**\n",
    "\n",
    "위에서 다루었던 예시 코드에 간단한 곱하기 연산을 추가해주면 됩니다. 사과는 500원이므로 500을 곱해주고, 오렌지는 300원이므로 300을 곱해줍니다."
   ]
  },
  {
   "cell_type": "code",
   "execution_count": 102,
   "metadata": {},
   "outputs": [
    {
     "data": {
      "text/html": [
       "<div>\n",
       "<style scoped>\n",
       "    .dataframe tbody tr th:only-of-type {\n",
       "        vertical-align: middle;\n",
       "    }\n",
       "\n",
       "    .dataframe tbody tr th {\n",
       "        vertical-align: top;\n",
       "    }\n",
       "\n",
       "    .dataframe thead th {\n",
       "        text-align: right;\n",
       "    }\n",
       "</style>\n",
       "<table border=\"1\" class=\"dataframe\">\n",
       "  <thead>\n",
       "    <tr style=\"text-align: right;\">\n",
       "      <th></th>\n",
       "      <th>apples</th>\n",
       "      <th>oranges</th>\n",
       "      <th>amount</th>\n",
       "    </tr>\n",
       "  </thead>\n",
       "  <tbody>\n",
       "    <tr>\n",
       "      <th>June</th>\n",
       "      <td>3</td>\n",
       "      <td>0</td>\n",
       "      <td>1500</td>\n",
       "    </tr>\n",
       "    <tr>\n",
       "      <th>Robert</th>\n",
       "      <td>2</td>\n",
       "      <td>3</td>\n",
       "      <td>1900</td>\n",
       "    </tr>\n",
       "    <tr>\n",
       "      <th>Lily</th>\n",
       "      <td>0</td>\n",
       "      <td>7</td>\n",
       "      <td>2100</td>\n",
       "    </tr>\n",
       "    <tr>\n",
       "      <th>David</th>\n",
       "      <td>1</td>\n",
       "      <td>2</td>\n",
       "      <td>1100</td>\n",
       "    </tr>\n",
       "  </tbody>\n",
       "</table>\n",
       "</div>"
      ],
      "text/plain": [
       "        apples  oranges  amount\n",
       "June         3        0    1500\n",
       "Robert       2        3    1900\n",
       "Lily         0        7    2100\n",
       "David        1        2    1100"
      ]
     },
     "execution_count": 102,
     "metadata": {},
     "output_type": "execute_result"
    }
   ],
   "source": [
    "purchases.assign(amount = purchases.apples * 500 + purchases.oranges * 300)"
   ]
  },
  {
   "cell_type": "markdown",
   "metadata": {},
   "source": [
    "## 3.5. 변수 요약\n",
    "\n",
    "사람은 평균, 표준편차, 중위수 등의 요약된 통계량을 통해서 데이터를 더 잘 이해할 수 있습니다. 판다스 시리즈와 데이터프레임은 데이터를 요약하는 다양한 메소드를 제공합니다. 메소드이므로 꼭 `()`와 함께 사용합니다.\n",
    "\n",
    "메소드|시리즈|데이터프레임 \n",
    "---|---|---\n",
    "mean|시리즈의 평균을 반환|모든 숫자 컬럼의 평균을 반환\n",
    "std|시리즈의 표준편차를 반환|모든 숫자 컬럼의 평균을 반환\n",
    "median|시리즈의 중위수를 반환|모든 숫자 컬럼의 중위수를 반환\n",
    "min|시리즈의 최소값을 반환|모든 숫자 컬럼의 최소값을 반환\n",
    "max|시리즈의 최대값을 반환|모든 숫자 컬럼의 최대값을 반환\n",
    "describe|관측값 수, 평균,표준편차, 각 분위수 반환|관측값 수, 평균,표준편차, 각 분위수 반환\n",
    "\n",
    "  \n",
    "**시리즈**"
   ]
  },
  {
   "cell_type": "code",
   "execution_count": 103,
   "metadata": {},
   "outputs": [
    {
     "data": {
      "text/plain": [
       "1.5"
      ]
     },
     "execution_count": 103,
     "metadata": {},
     "output_type": "execute_result"
    }
   ],
   "source": [
    "purchases.apples.mean()"
   ]
  },
  {
   "cell_type": "code",
   "execution_count": 104,
   "metadata": {},
   "outputs": [
    {
     "data": {
      "text/plain": [
       "1.2909944487358056"
      ]
     },
     "execution_count": 104,
     "metadata": {},
     "output_type": "execute_result"
    }
   ],
   "source": [
    "purchases.apples.std()"
   ]
  },
  {
   "cell_type": "code",
   "execution_count": 105,
   "metadata": {},
   "outputs": [
    {
     "data": {
      "text/plain": [
       "1.5"
      ]
     },
     "execution_count": 105,
     "metadata": {},
     "output_type": "execute_result"
    }
   ],
   "source": [
    "purchases.apples.median()"
   ]
  },
  {
   "cell_type": "code",
   "execution_count": 106,
   "metadata": {},
   "outputs": [
    {
     "data": {
      "text/plain": [
       "0"
      ]
     },
     "execution_count": 106,
     "metadata": {},
     "output_type": "execute_result"
    }
   ],
   "source": [
    "purchases.apples.min()"
   ]
  },
  {
   "cell_type": "code",
   "execution_count": 107,
   "metadata": {},
   "outputs": [
    {
     "data": {
      "text/plain": [
       "3"
      ]
     },
     "execution_count": 107,
     "metadata": {},
     "output_type": "execute_result"
    }
   ],
   "source": [
    "purchases.apples.max()"
   ]
  },
  {
   "cell_type": "markdown",
   "metadata": {},
   "source": [
    "**데이터프레임**"
   ]
  },
  {
   "cell_type": "code",
   "execution_count": 108,
   "metadata": {},
   "outputs": [
    {
     "data": {
      "text/html": [
       "<div>\n",
       "<style scoped>\n",
       "    .dataframe tbody tr th:only-of-type {\n",
       "        vertical-align: middle;\n",
       "    }\n",
       "\n",
       "    .dataframe tbody tr th {\n",
       "        vertical-align: top;\n",
       "    }\n",
       "\n",
       "    .dataframe thead th {\n",
       "        text-align: right;\n",
       "    }\n",
       "</style>\n",
       "<table border=\"1\" class=\"dataframe\">\n",
       "  <thead>\n",
       "    <tr style=\"text-align: right;\">\n",
       "      <th></th>\n",
       "      <th>apples</th>\n",
       "      <th>oranges</th>\n",
       "    </tr>\n",
       "  </thead>\n",
       "  <tbody>\n",
       "    <tr>\n",
       "      <th>count</th>\n",
       "      <td>4.000000</td>\n",
       "      <td>4.00000</td>\n",
       "    </tr>\n",
       "    <tr>\n",
       "      <th>mean</th>\n",
       "      <td>1.500000</td>\n",
       "      <td>3.00000</td>\n",
       "    </tr>\n",
       "    <tr>\n",
       "      <th>std</th>\n",
       "      <td>1.290994</td>\n",
       "      <td>2.94392</td>\n",
       "    </tr>\n",
       "    <tr>\n",
       "      <th>min</th>\n",
       "      <td>0.000000</td>\n",
       "      <td>0.00000</td>\n",
       "    </tr>\n",
       "    <tr>\n",
       "      <th>25%</th>\n",
       "      <td>0.750000</td>\n",
       "      <td>1.50000</td>\n",
       "    </tr>\n",
       "    <tr>\n",
       "      <th>50%</th>\n",
       "      <td>1.500000</td>\n",
       "      <td>2.50000</td>\n",
       "    </tr>\n",
       "    <tr>\n",
       "      <th>75%</th>\n",
       "      <td>2.250000</td>\n",
       "      <td>4.00000</td>\n",
       "    </tr>\n",
       "    <tr>\n",
       "      <th>max</th>\n",
       "      <td>3.000000</td>\n",
       "      <td>7.00000</td>\n",
       "    </tr>\n",
       "  </tbody>\n",
       "</table>\n",
       "</div>"
      ],
      "text/plain": [
       "         apples  oranges\n",
       "count  4.000000  4.00000\n",
       "mean   1.500000  3.00000\n",
       "std    1.290994  2.94392\n",
       "min    0.000000  0.00000\n",
       "25%    0.750000  1.50000\n",
       "50%    1.500000  2.50000\n",
       "75%    2.250000  4.00000\n",
       "max    3.000000  7.00000"
      ]
     },
     "execution_count": 108,
     "metadata": {},
     "output_type": "execute_result"
    }
   ],
   "source": [
    "purchases.describe()"
   ]
  },
  {
   "cell_type": "markdown",
   "metadata": {},
   "source": [
    "## 3.6. 그룹별 조작\n",
    "\n",
    "### groupby 기초\n",
    "\n",
    "![](https://jakevdp.github.io/figures/split-apply-combine.svg)\n",
    "\n",
    "`groupby` 메소드는 말 그대로 데이터를 그룹별로 나누어 조작할 수 있도록 만들어주며, 데이터가 범주형 변수를 포함할 때 유용합니다. 위 그림은 A, B, C 그룹을 구분하고 그룹별로 데이터의 합을 집계하는 과정을 나타냅니다. 위 그림에서 나타난 조작을 판다스로 구현해보겠습니다."
   ]
  },
  {
   "cell_type": "code",
   "execution_count": 109,
   "metadata": {},
   "outputs": [
    {
     "data": {
      "text/html": [
       "<div>\n",
       "<style scoped>\n",
       "    .dataframe tbody tr th:only-of-type {\n",
       "        vertical-align: middle;\n",
       "    }\n",
       "\n",
       "    .dataframe tbody tr th {\n",
       "        vertical-align: top;\n",
       "    }\n",
       "\n",
       "    .dataframe thead th {\n",
       "        text-align: right;\n",
       "    }\n",
       "</style>\n",
       "<table border=\"1\" class=\"dataframe\">\n",
       "  <thead>\n",
       "    <tr style=\"text-align: right;\">\n",
       "      <th></th>\n",
       "      <th>key</th>\n",
       "      <th>data</th>\n",
       "    </tr>\n",
       "  </thead>\n",
       "  <tbody>\n",
       "    <tr>\n",
       "      <th>0</th>\n",
       "      <td>A</td>\n",
       "      <td>1</td>\n",
       "    </tr>\n",
       "    <tr>\n",
       "      <th>1</th>\n",
       "      <td>B</td>\n",
       "      <td>2</td>\n",
       "    </tr>\n",
       "    <tr>\n",
       "      <th>2</th>\n",
       "      <td>C</td>\n",
       "      <td>3</td>\n",
       "    </tr>\n",
       "    <tr>\n",
       "      <th>3</th>\n",
       "      <td>A</td>\n",
       "      <td>4</td>\n",
       "    </tr>\n",
       "    <tr>\n",
       "      <th>4</th>\n",
       "      <td>B</td>\n",
       "      <td>5</td>\n",
       "    </tr>\n",
       "    <tr>\n",
       "      <th>5</th>\n",
       "      <td>C</td>\n",
       "      <td>6</td>\n",
       "    </tr>\n",
       "  </tbody>\n",
       "</table>\n",
       "</div>"
      ],
      "text/plain": [
       "  key  data\n",
       "0   A     1\n",
       "1   B     2\n",
       "2   C     3\n",
       "3   A     4\n",
       "4   B     5\n",
       "5   C     6"
      ]
     },
     "execution_count": 109,
     "metadata": {},
     "output_type": "execute_result"
    }
   ],
   "source": [
    "data = pd.DataFrame(\n",
    "    {\"key\":[\"A\",\"B\",\"C\",\"A\",\"B\",\"C\"], \"data\":[1,2,3,4,5,6]}\n",
    ")\n",
    "data"
   ]
  },
  {
   "cell_type": "markdown",
   "metadata": {},
   "source": [
    "`groupby` 메소드의 괄호 안에 그룹으로 나누어줄 컬럼명을 전달합니다. `groupby` 메소드만를 실행하면 `DataFrameGroupBy` 객체가 반환됩니다. 값을 명시적으로 보여주지는 않지만, 그룹별로 쪼개진 상태라고 상상해주시면 됩니다. 이 상태에서 `sum` 메소드를 사용하면 합계를 구할 수 있습니다. `sum` 뿐만 아니라 위에서 다루었던 데이터 요약 메소드들을 모두 적용할 수 있습니다."
   ]
  },
  {
   "cell_type": "code",
   "execution_count": 110,
   "metadata": {},
   "outputs": [
    {
     "data": {
      "text/plain": [
       "<pandas.core.groupby.generic.DataFrameGroupBy object at 0x000001FFA83DE388>"
      ]
     },
     "execution_count": 110,
     "metadata": {},
     "output_type": "execute_result"
    }
   ],
   "source": [
    "data.groupby(\"key\") # 쪼개진 상태 !"
   ]
  },
  {
   "cell_type": "code",
   "execution_count": 111,
   "metadata": {},
   "outputs": [
    {
     "data": {
      "text/html": [
       "<div>\n",
       "<style scoped>\n",
       "    .dataframe tbody tr th:only-of-type {\n",
       "        vertical-align: middle;\n",
       "    }\n",
       "\n",
       "    .dataframe tbody tr th {\n",
       "        vertical-align: top;\n",
       "    }\n",
       "\n",
       "    .dataframe thead th {\n",
       "        text-align: right;\n",
       "    }\n",
       "</style>\n",
       "<table border=\"1\" class=\"dataframe\">\n",
       "  <thead>\n",
       "    <tr style=\"text-align: right;\">\n",
       "      <th></th>\n",
       "      <th>data</th>\n",
       "    </tr>\n",
       "    <tr>\n",
       "      <th>key</th>\n",
       "      <th></th>\n",
       "    </tr>\n",
       "  </thead>\n",
       "  <tbody>\n",
       "    <tr>\n",
       "      <th>A</th>\n",
       "      <td>5</td>\n",
       "    </tr>\n",
       "    <tr>\n",
       "      <th>B</th>\n",
       "      <td>7</td>\n",
       "    </tr>\n",
       "    <tr>\n",
       "      <th>C</th>\n",
       "      <td>9</td>\n",
       "    </tr>\n",
       "  </tbody>\n",
       "</table>\n",
       "</div>"
      ],
      "text/plain": [
       "     data\n",
       "key      \n",
       "A       5\n",
       "B       7\n",
       "C       9"
      ]
     },
     "execution_count": 111,
     "metadata": {},
     "output_type": "execute_result"
    }
   ],
   "source": [
    "data.groupby(\"key\").sum() # 집계 메소드 적용"
   ]
  },
  {
   "cell_type": "markdown",
   "metadata": {},
   "source": [
    "### 변수 선택\n",
    "\n",
    "`DataFrameGroupBy` 객체에서도 변수를 선택할 수 있으며, 데이터프레임에서 하던 것과 동일합니다. 먼저 `purchases` 데이터에 결혼 여부 컬럼을 추가하고, 결혼 여부에 따라 사과, 오렌지의 평균 구매 개수를 계산해봅니다.\n",
    "\n",
    "**데이터프레임에 변수 추가**"
   ]
  },
  {
   "cell_type": "code",
   "execution_count": 112,
   "metadata": {},
   "outputs": [
    {
     "data": {
      "text/html": [
       "<div>\n",
       "<style scoped>\n",
       "    .dataframe tbody tr th:only-of-type {\n",
       "        vertical-align: middle;\n",
       "    }\n",
       "\n",
       "    .dataframe tbody tr th {\n",
       "        vertical-align: top;\n",
       "    }\n",
       "\n",
       "    .dataframe thead th {\n",
       "        text-align: right;\n",
       "    }\n",
       "</style>\n",
       "<table border=\"1\" class=\"dataframe\">\n",
       "  <thead>\n",
       "    <tr style=\"text-align: right;\">\n",
       "      <th></th>\n",
       "      <th>apples</th>\n",
       "      <th>oranges</th>\n",
       "    </tr>\n",
       "    <tr>\n",
       "      <th>married</th>\n",
       "      <th></th>\n",
       "      <th></th>\n",
       "    </tr>\n",
       "  </thead>\n",
       "  <tbody>\n",
       "    <tr>\n",
       "      <th>0</th>\n",
       "      <td>2</td>\n",
       "      <td>1</td>\n",
       "    </tr>\n",
       "    <tr>\n",
       "      <th>1</th>\n",
       "      <td>1</td>\n",
       "      <td>5</td>\n",
       "    </tr>\n",
       "  </tbody>\n",
       "</table>\n",
       "</div>"
      ],
      "text/plain": [
       "         apples  oranges\n",
       "married                 \n",
       "0             2        1\n",
       "1             1        5"
      ]
     },
     "execution_count": 112,
     "metadata": {},
     "output_type": "execute_result"
    }
   ],
   "source": [
    "purchases = purchases.assign(married = [0,1,1,0])\n",
    "purchases.groupby(\"married\").mean()"
   ]
  },
  {
   "cell_type": "markdown",
   "metadata": {},
   "source": [
    "만약 우리가 사과에는 관심이 없고, 오렌지에만 관심이 있다면 어떨까요? 먼저 평균을 집계한 이후, 그 결과에서 `oranges`만을 뽑아낼 수 있습니다. 하지만 이러한 코드는 데이터가 커진다면 시간을 상당히 낭비하는 코드일 수 있습니다. 이런 경우에는 먼저 변수를 선택한 후에 집계를 하는 편이 효율적입니다.\n",
    "\n",
    "\n",
    "  \n",
    "**집계 후 변수 선택**"
   ]
  },
  {
   "cell_type": "code",
   "execution_count": 113,
   "metadata": {},
   "outputs": [
    {
     "data": {
      "text/plain": [
       "married\n",
       "0    1\n",
       "1    5\n",
       "Name: oranges, dtype: int64"
      ]
     },
     "execution_count": 113,
     "metadata": {},
     "output_type": "execute_result"
    }
   ],
   "source": [
    "purchases.groupby(\"married\").mean().oranges"
   ]
  },
  {
   "cell_type": "markdown",
   "metadata": {},
   "source": [
    " **변수 선택 후 집계: 계산 절약**"
   ]
  },
  {
   "cell_type": "code",
   "execution_count": 114,
   "metadata": {},
   "outputs": [
    {
     "data": {
      "text/plain": [
       "married\n",
       "0    1\n",
       "1    5\n",
       "Name: oranges, dtype: int64"
      ]
     },
     "execution_count": 114,
     "metadata": {},
     "output_type": "execute_result"
    }
   ],
   "source": [
    "purchases.groupby(\"married\").oranges.mean()"
   ]
  },
  {
   "cell_type": "markdown",
   "metadata": {},
   "source": [
    "### 여러 변수로 그루핑\n",
    "\n",
    "여러 변수를 통해 그룹을 분리하는 것도 가능합니다. `groupby` 메소드에 변수들의 리스트를 전달해주면 됩니다. `purchases` 데이터에 새로운 컬럼을 추가해보겠습니다."
   ]
  },
  {
   "cell_type": "code",
   "execution_count": 115,
   "metadata": {},
   "outputs": [
    {
     "data": {
      "text/html": [
       "<div>\n",
       "<style scoped>\n",
       "    .dataframe tbody tr th:only-of-type {\n",
       "        vertical-align: middle;\n",
       "    }\n",
       "\n",
       "    .dataframe tbody tr th {\n",
       "        vertical-align: top;\n",
       "    }\n",
       "\n",
       "    .dataframe thead th {\n",
       "        text-align: right;\n",
       "    }\n",
       "</style>\n",
       "<table border=\"1\" class=\"dataframe\">\n",
       "  <thead>\n",
       "    <tr style=\"text-align: right;\">\n",
       "      <th></th>\n",
       "      <th></th>\n",
       "      <th>apples</th>\n",
       "      <th>oranges</th>\n",
       "    </tr>\n",
       "    <tr>\n",
       "      <th>married</th>\n",
       "      <th>graduate</th>\n",
       "      <th></th>\n",
       "      <th></th>\n",
       "    </tr>\n",
       "  </thead>\n",
       "  <tbody>\n",
       "    <tr>\n",
       "      <th rowspan=\"2\" valign=\"top\">0</th>\n",
       "      <th>False</th>\n",
       "      <td>1</td>\n",
       "      <td>2</td>\n",
       "    </tr>\n",
       "    <tr>\n",
       "      <th>True</th>\n",
       "      <td>3</td>\n",
       "      <td>0</td>\n",
       "    </tr>\n",
       "    <tr>\n",
       "      <th>1</th>\n",
       "      <th>True</th>\n",
       "      <td>1</td>\n",
       "      <td>5</td>\n",
       "    </tr>\n",
       "  </tbody>\n",
       "</table>\n",
       "</div>"
      ],
      "text/plain": [
       "                  apples  oranges\n",
       "married graduate                 \n",
       "0       False          1        2\n",
       "        True           3        0\n",
       "1       True           1        5"
      ]
     },
     "execution_count": 115,
     "metadata": {},
     "output_type": "execute_result"
    }
   ],
   "source": [
    "purchases = purchases.assign(graduate = [True, True, True, False])\n",
    "purchases.groupby([\"married\",\"graduate\"]).mean()"
   ]
  },
  {
   "cell_type": "markdown",
   "metadata": {},
   "source": [
    "**예제 3.5. 타이타닉 데이터에서 선실 등급별/성별 생존률을 계산하세요. 선실 등급을 나타내는 변수는 `Pclass` 입니다.**"
   ]
  },
  {
   "cell_type": "code",
   "execution_count": 92,
   "metadata": {},
   "outputs": [
    {
     "data": {
      "text/plain": [
       "Pclass  Sex   \n",
       "1       female    0.968085\n",
       "        male      0.368852\n",
       "2       female    0.921053\n",
       "        male      0.157407\n",
       "3       female    0.500000\n",
       "        male      0.135447\n",
       "Name: Survived, dtype: float64"
      ]
     },
     "execution_count": 92,
     "metadata": {},
     "output_type": "execute_result"
    }
   ],
   "source": []
  },
  {
   "cell_type": "markdown",
   "metadata": {},
   "source": [
    "**풀이**\n",
    "\n",
    "`groupby` 메소드에 그룹지을 변수들의 리스트, 즉 `['Pclass','Sex']`을 전달해줍니다. 생존 여부가 0과 1로 코딩되어 있으므로 평균을 통해서 각 그룹의 생존률을 계산할 수 있습니다. 따라서 그룹바이 객체에서 `Survived` 변수를 선택하고, 평균을 구해줍니다."
   ]
  },
  {
   "cell_type": "code",
   "execution_count": 116,
   "metadata": {},
   "outputs": [
    {
     "data": {
      "text/plain": [
       "Pclass  Sex   \n",
       "1       female    0.968085\n",
       "        male      0.368852\n",
       "2       female    0.921053\n",
       "        male      0.157407\n",
       "3       female    0.500000\n",
       "        male      0.135447\n",
       "Name: Survived, dtype: float64"
      ]
     },
     "execution_count": 116,
     "metadata": {},
     "output_type": "execute_result"
    }
   ],
   "source": [
    "titanic.groupby([\"Pclass\",\"Sex\"]).Survived.mean()"
   ]
  },
  {
   "cell_type": "markdown",
   "metadata": {},
   "source": [
    "# 4. 복수의 데이터프레임 합치기\n",
    "\n",
    "## 4.1. pd.merge\n",
    "\n",
    "![Pandas Merge and Append Tables](https://www.absentdata.com/wp-content/uploads/2019/07/pd.merge-1.png)\n",
    "\n",
    "마지막으로, 복수의 데이터프레임을 합치는 방법을 배워보겠습니다. 예를 들어 위와 같은 두 개의 데이터프레임은 `item_id`라는 컬럼을 기준으로 이어붙일 수 있을 것입니다. 이렇게 기준 열을 통해서 복수의 데이터를 병합하는 조작을 SQL에서는 조인이라고 부릅니다. 판다스에서 이러한 조작은 `pd.merge` 함수를 통해서 실행할 수 있습니다. **아무런 인자 없이 `pd.merge`를 실행할때는 양쪽 데이터에 공통된 이름의 컬럼이 존재해야 하며, 양쪽 컬럼의 자료형이 일치해야 합니다.**"
   ]
  },
  {
   "cell_type": "code",
   "execution_count": 117,
   "metadata": {},
   "outputs": [
    {
     "data": {
      "text/html": [
       "<div>\n",
       "<style scoped>\n",
       "    .dataframe tbody tr th:only-of-type {\n",
       "        vertical-align: middle;\n",
       "    }\n",
       "\n",
       "    .dataframe tbody tr th {\n",
       "        vertical-align: top;\n",
       "    }\n",
       "\n",
       "    .dataframe thead th {\n",
       "        text-align: right;\n",
       "    }\n",
       "</style>\n",
       "<table border=\"1\" class=\"dataframe\">\n",
       "  <thead>\n",
       "    <tr style=\"text-align: right;\">\n",
       "      <th></th>\n",
       "      <th>item_id</th>\n",
       "      <th>price</th>\n",
       "      <th>item</th>\n",
       "    </tr>\n",
       "  </thead>\n",
       "  <tbody>\n",
       "    <tr>\n",
       "      <th>0</th>\n",
       "      <td>11</td>\n",
       "      <td>1.99</td>\n",
       "      <td>sweet</td>\n",
       "    </tr>\n",
       "    <tr>\n",
       "      <th>1</th>\n",
       "      <td>22</td>\n",
       "      <td>2.99</td>\n",
       "      <td>salty</td>\n",
       "    </tr>\n",
       "    <tr>\n",
       "      <th>2</th>\n",
       "      <td>33</td>\n",
       "      <td>1.00</td>\n",
       "      <td>japanese</td>\n",
       "    </tr>\n",
       "    <tr>\n",
       "      <th>3</th>\n",
       "      <td>44</td>\n",
       "      <td>4.50</td>\n",
       "      <td>german</td>\n",
       "    </tr>\n",
       "    <tr>\n",
       "      <th>4</th>\n",
       "      <td>55</td>\n",
       "      <td>1.50</td>\n",
       "      <td>korean</td>\n",
       "    </tr>\n",
       "  </tbody>\n",
       "</table>\n",
       "</div>"
      ],
      "text/plain": [
       "   item_id  price      item\n",
       "0       11   1.99     sweet\n",
       "1       22   2.99     salty\n",
       "2       33   1.00  japanese\n",
       "3       44   4.50    german\n",
       "4       55   1.50    korean"
      ]
     },
     "execution_count": 117,
     "metadata": {},
     "output_type": "execute_result"
    }
   ],
   "source": [
    "leftData = pd.DataFrame({\"item_id\":[11,22,33,44,55],\"price\":[1.99,2.99,1.00,4.5,1.5]})\n",
    "rightData = pd.DataFrame({\n",
    "    \"item_id\":[11,22,33,44,55],\n",
    "    \"item\":[\"sweet\",\"salty\",\"japanese\",\"german\",\"korean\"]\n",
    "})\n",
    "pd.merge(leftData,rightData)"
   ]
  },
  {
   "cell_type": "markdown",
   "metadata": {},
   "source": [
    "![How to join (merge) data frames (inner, outer, right, left join) in pandas python](http://www.datasciencemadesimple.com/wp-content/uploads/2017/09/join-or-merge-in-python-pandas-1.png)\n",
    "\n",
    "위에서는 왼쪽 데이터와 오른쪽 데이터의 행 개수가 동일했지만, 그렇지 않은 경우에도 조인이 가능합니다. 위 그림을 보면, 크게 네 가지 방식의 조인이 존재하는 것을 알 수 있습니다.\n",
    "\n",
    "1. Inner join: 양쪽 데이터 모두에 존재하는 행들만을 남기는 조인(pd.merge 기본 옵션!)\n",
    "2. Left join: 왼쪽 데이터에 존재하는 행들만을 남기는 조인\n",
    "3. Right join: 오른쪽 데이터에 존재하는 행들만을 남기는 조인\n",
    "4. Outer join: 양쪽 데이터에 존재하는 행들을 모두 남기는 조인"
   ]
  },
  {
   "cell_type": "code",
   "execution_count": null,
   "metadata": {},
   "outputs": [],
   "source": [
    "pd.merge(왼쪽데이터, 오른쪽데이터, how='조인방식')"
   ]
  },
  {
   "cell_type": "markdown",
   "metadata": {},
   "source": [
    "### inner join\n",
    "\n",
    "위의 코드를 약간 수정하여 `leftData`를 3개의 행으로, `rightData`를 4개의 행으로 줄여주었습니다. 데이터를 이렇게 수정해주면, 왼쪽 데이터와 오른쪽 데이터의 교집한은 아이디 11번, 22번 상품 뿐입니다. 따라서 inner join을 실행하면 11번, 22번 상품만 남게 됩니다. Inner join이 `pd.merge`의 기본 옵션이기 때문에 별도로 인자를 전달해줄 필요가 없습니다."
   ]
  },
  {
   "cell_type": "code",
   "execution_count": 118,
   "metadata": {},
   "outputs": [
    {
     "data": {
      "text/html": [
       "<div>\n",
       "<style scoped>\n",
       "    .dataframe tbody tr th:only-of-type {\n",
       "        vertical-align: middle;\n",
       "    }\n",
       "\n",
       "    .dataframe tbody tr th {\n",
       "        vertical-align: top;\n",
       "    }\n",
       "\n",
       "    .dataframe thead th {\n",
       "        text-align: right;\n",
       "    }\n",
       "</style>\n",
       "<table border=\"1\" class=\"dataframe\">\n",
       "  <thead>\n",
       "    <tr style=\"text-align: right;\">\n",
       "      <th></th>\n",
       "      <th>item_id</th>\n",
       "      <th>price</th>\n",
       "      <th>item</th>\n",
       "    </tr>\n",
       "  </thead>\n",
       "  <tbody>\n",
       "    <tr>\n",
       "      <th>0</th>\n",
       "      <td>22</td>\n",
       "      <td>2.99</td>\n",
       "      <td>salty</td>\n",
       "    </tr>\n",
       "    <tr>\n",
       "      <th>1</th>\n",
       "      <td>33</td>\n",
       "      <td>1.00</td>\n",
       "      <td>japanese</td>\n",
       "    </tr>\n",
       "  </tbody>\n",
       "</table>\n",
       "</div>"
      ],
      "text/plain": [
       "   item_id  price      item\n",
       "0       22   2.99     salty\n",
       "1       33   1.00  japanese"
      ]
     },
     "execution_count": 118,
     "metadata": {},
     "output_type": "execute_result"
    }
   ],
   "source": [
    "leftData = pd.DataFrame({\"item_id\":[11,22,33],\"price\":[1.99,2.99,1.00]})\n",
    "rightData = pd.DataFrame({\"item_id\":[22,33,44,55],\"item\":[\"salty\",\"japanese\",\"german\",\"korean\"]})\n",
    "pd.merge(leftData,rightData)"
   ]
  },
  {
   "cell_type": "markdown",
   "metadata": {},
   "source": [
    "### left join, right join\n",
    "\n",
    "Left join은 왼쪽 데이터에 존재하는 데이터를 모두 남기는 조인입니다. 아래 예시 코드를 보겠습니다. 왼쪽에 존재하는 데이터들이 모두 보존되는 것을 확인할 수 있습니다. 하지만 11번 상품은 오른쪽 데이터에 존재하지 않는 행이기 때문에, `item` 컬럼에 `NaN`이 할당되었습니다. Right join 역시 같은 원리로 작동하기 때문에 설명은 생략하겠습니다."
   ]
  },
  {
   "cell_type": "code",
   "execution_count": 119,
   "metadata": {},
   "outputs": [
    {
     "data": {
      "text/html": [
       "<div>\n",
       "<style scoped>\n",
       "    .dataframe tbody tr th:only-of-type {\n",
       "        vertical-align: middle;\n",
       "    }\n",
       "\n",
       "    .dataframe tbody tr th {\n",
       "        vertical-align: top;\n",
       "    }\n",
       "\n",
       "    .dataframe thead th {\n",
       "        text-align: right;\n",
       "    }\n",
       "</style>\n",
       "<table border=\"1\" class=\"dataframe\">\n",
       "  <thead>\n",
       "    <tr style=\"text-align: right;\">\n",
       "      <th></th>\n",
       "      <th>item_id</th>\n",
       "      <th>price</th>\n",
       "      <th>item</th>\n",
       "    </tr>\n",
       "  </thead>\n",
       "  <tbody>\n",
       "    <tr>\n",
       "      <th>0</th>\n",
       "      <td>11</td>\n",
       "      <td>1.99</td>\n",
       "      <td>NaN</td>\n",
       "    </tr>\n",
       "    <tr>\n",
       "      <th>1</th>\n",
       "      <td>22</td>\n",
       "      <td>2.99</td>\n",
       "      <td>salty</td>\n",
       "    </tr>\n",
       "    <tr>\n",
       "      <th>2</th>\n",
       "      <td>33</td>\n",
       "      <td>1.00</td>\n",
       "      <td>japanese</td>\n",
       "    </tr>\n",
       "  </tbody>\n",
       "</table>\n",
       "</div>"
      ],
      "text/plain": [
       "   item_id  price      item\n",
       "0       11   1.99       NaN\n",
       "1       22   2.99     salty\n",
       "2       33   1.00  japanese"
      ]
     },
     "execution_count": 119,
     "metadata": {},
     "output_type": "execute_result"
    }
   ],
   "source": [
    "pd.merge(leftData,rightData,how='left')"
   ]
  },
  {
   "cell_type": "code",
   "execution_count": 120,
   "metadata": {},
   "outputs": [
    {
     "data": {
      "text/html": [
       "<div>\n",
       "<style scoped>\n",
       "    .dataframe tbody tr th:only-of-type {\n",
       "        vertical-align: middle;\n",
       "    }\n",
       "\n",
       "    .dataframe tbody tr th {\n",
       "        vertical-align: top;\n",
       "    }\n",
       "\n",
       "    .dataframe thead th {\n",
       "        text-align: right;\n",
       "    }\n",
       "</style>\n",
       "<table border=\"1\" class=\"dataframe\">\n",
       "  <thead>\n",
       "    <tr style=\"text-align: right;\">\n",
       "      <th></th>\n",
       "      <th>item_id</th>\n",
       "      <th>price</th>\n",
       "      <th>item</th>\n",
       "    </tr>\n",
       "  </thead>\n",
       "  <tbody>\n",
       "    <tr>\n",
       "      <th>0</th>\n",
       "      <td>22</td>\n",
       "      <td>2.99</td>\n",
       "      <td>salty</td>\n",
       "    </tr>\n",
       "    <tr>\n",
       "      <th>1</th>\n",
       "      <td>33</td>\n",
       "      <td>1.00</td>\n",
       "      <td>japanese</td>\n",
       "    </tr>\n",
       "    <tr>\n",
       "      <th>2</th>\n",
       "      <td>44</td>\n",
       "      <td>NaN</td>\n",
       "      <td>german</td>\n",
       "    </tr>\n",
       "    <tr>\n",
       "      <th>3</th>\n",
       "      <td>55</td>\n",
       "      <td>NaN</td>\n",
       "      <td>korean</td>\n",
       "    </tr>\n",
       "  </tbody>\n",
       "</table>\n",
       "</div>"
      ],
      "text/plain": [
       "   item_id  price      item\n",
       "0       22   2.99     salty\n",
       "1       33   1.00  japanese\n",
       "2       44    NaN    german\n",
       "3       55    NaN    korean"
      ]
     },
     "execution_count": 120,
     "metadata": {},
     "output_type": "execute_result"
    }
   ],
   "source": [
    "pd.merge(leftData,rightData,how='right')"
   ]
  },
  {
   "cell_type": "markdown",
   "metadata": {},
   "source": [
    "### outer join\n",
    "\n",
    "Outer join은 양쪽의 데이터를 모두 남기는 조인입니다. 아래 에시 코드를 보겠습니다. 양쪽 데이터에 들어있는 행들이 모두 보존되는 것을 확인할 수 있습니다. 역시 서로 대응되는 행이 없는 경우에는 `NaN`이 할당됩니다."
   ]
  },
  {
   "cell_type": "code",
   "execution_count": 121,
   "metadata": {},
   "outputs": [
    {
     "data": {
      "text/html": [
       "<div>\n",
       "<style scoped>\n",
       "    .dataframe tbody tr th:only-of-type {\n",
       "        vertical-align: middle;\n",
       "    }\n",
       "\n",
       "    .dataframe tbody tr th {\n",
       "        vertical-align: top;\n",
       "    }\n",
       "\n",
       "    .dataframe thead th {\n",
       "        text-align: right;\n",
       "    }\n",
       "</style>\n",
       "<table border=\"1\" class=\"dataframe\">\n",
       "  <thead>\n",
       "    <tr style=\"text-align: right;\">\n",
       "      <th></th>\n",
       "      <th>item_id</th>\n",
       "      <th>price</th>\n",
       "      <th>item</th>\n",
       "    </tr>\n",
       "  </thead>\n",
       "  <tbody>\n",
       "    <tr>\n",
       "      <th>0</th>\n",
       "      <td>11</td>\n",
       "      <td>1.99</td>\n",
       "      <td>NaN</td>\n",
       "    </tr>\n",
       "    <tr>\n",
       "      <th>1</th>\n",
       "      <td>22</td>\n",
       "      <td>2.99</td>\n",
       "      <td>salty</td>\n",
       "    </tr>\n",
       "    <tr>\n",
       "      <th>2</th>\n",
       "      <td>33</td>\n",
       "      <td>1.00</td>\n",
       "      <td>japanese</td>\n",
       "    </tr>\n",
       "    <tr>\n",
       "      <th>3</th>\n",
       "      <td>44</td>\n",
       "      <td>NaN</td>\n",
       "      <td>german</td>\n",
       "    </tr>\n",
       "    <tr>\n",
       "      <th>4</th>\n",
       "      <td>55</td>\n",
       "      <td>NaN</td>\n",
       "      <td>korean</td>\n",
       "    </tr>\n",
       "  </tbody>\n",
       "</table>\n",
       "</div>"
      ],
      "text/plain": [
       "   item_id  price      item\n",
       "0       11   1.99       NaN\n",
       "1       22   2.99     salty\n",
       "2       33   1.00  japanese\n",
       "3       44    NaN    german\n",
       "4       55    NaN    korean"
      ]
     },
     "execution_count": 121,
     "metadata": {},
     "output_type": "execute_result"
    }
   ],
   "source": [
    "pd.merge(leftData,rightData,how='outer')"
   ]
  },
  {
   "cell_type": "markdown",
   "metadata": {},
   "source": [
    "### 기타 경우의 조인\n",
    "\n",
    "같은 이름의 컬럼이 존재하지 않거나, 복수의 열을 기준으로 조인을 실행할 경우에는 추가적으로 인자를 전달해주어야 합니다. 다양한 경우들을 여기에서 전부 다룰 수는 없기 때문에, 간단한 문법만 짚고 넘어가겠습니다. 더 자세한 정보를 원하시면 [pandas documentation](https://pandas.pydata.org/pandas-docs/stable/reference/api/pandas.DataFrame.merge.html)을 참조하시기 바랍니다. "
   ]
  },
  {
   "cell_type": "code",
   "execution_count": null,
   "metadata": {},
   "outputs": [],
   "source": [
    "pd.merge(data1, data2, left_on=\"왼쪽컬럼명\", right_on=\"오른쪽컬럼명\") # 컬럼 이름이 일치하지 않는 경우\n",
    "pd.merge(data1, data2, on = ['기준컬럼1','기준컬럼2', ...]) # 복수의 컬럼을 기준으로 merge"
   ]
  },
  {
   "cell_type": "markdown",
   "metadata": {},
   "source": [
    "## 4.2. concat\n",
    "\n",
    "![](https://pandas.pydata.org/pandas-docs/version/0.20.2/_images/merging_concat_dict.png)\n",
    "\n",
    "`pd.merge`가 복수의 데이터를 옆으로 합쳐주었다면, `pd.concat`은 주로 복수의 데이터를 위아래로 합치는 경우에 사용합니다(양옆으로 합칠 때도 사용할 수 있습니다). 위와 같이 동일한 컬럼을 공유하는 복수의 데이터를 합쳐주는 경우가 대표적인 예시입니다. 아래 예시 코드를 보면 쉽게 이해할 수 있을 것입니다. `[]` 안에 데이터들을 넣어주시면 됩니다. `pd.concat`은 개별 데이터가 커질수록 느려지기 때문에 절대절대 `for` 문과 함께 사용하시면 안됩니다! 리스트 안에 복수의 데이터를 집어넣은 후, 한 번에 합쳐주셔야 그나마 빠르게 작업을 할 수 있습니다."
   ]
  },
  {
   "cell_type": "code",
   "execution_count": null,
   "metadata": {},
   "outputs": [],
   "source": [
    "pd.concat([데이터1, 데이터2, 데이터3, ...])"
   ]
  },
  {
   "cell_type": "code",
   "execution_count": 123,
   "metadata": {},
   "outputs": [
    {
     "data": {
      "text/html": [
       "<div>\n",
       "<style scoped>\n",
       "    .dataframe tbody tr th:only-of-type {\n",
       "        vertical-align: middle;\n",
       "    }\n",
       "\n",
       "    .dataframe tbody tr th {\n",
       "        vertical-align: top;\n",
       "    }\n",
       "\n",
       "    .dataframe thead th {\n",
       "        text-align: right;\n",
       "    }\n",
       "</style>\n",
       "<table border=\"1\" class=\"dataframe\">\n",
       "  <thead>\n",
       "    <tr style=\"text-align: right;\">\n",
       "      <th></th>\n",
       "      <th>height</th>\n",
       "      <th>weight</th>\n",
       "    </tr>\n",
       "  </thead>\n",
       "  <tbody>\n",
       "    <tr>\n",
       "      <th>0</th>\n",
       "      <td>154</td>\n",
       "      <td>54</td>\n",
       "    </tr>\n",
       "    <tr>\n",
       "      <th>1</th>\n",
       "      <td>184</td>\n",
       "      <td>84</td>\n",
       "    </tr>\n",
       "    <tr>\n",
       "      <th>2</th>\n",
       "      <td>176</td>\n",
       "      <td>76</td>\n",
       "    </tr>\n",
       "    <tr>\n",
       "      <th>0</th>\n",
       "      <td>167</td>\n",
       "      <td>67</td>\n",
       "    </tr>\n",
       "    <tr>\n",
       "      <th>1</th>\n",
       "      <td>170</td>\n",
       "      <td>70</td>\n",
       "    </tr>\n",
       "    <tr>\n",
       "      <th>2</th>\n",
       "      <td>163</td>\n",
       "      <td>63</td>\n",
       "    </tr>\n",
       "    <tr>\n",
       "      <th>3</th>\n",
       "      <td>165</td>\n",
       "      <td>65</td>\n",
       "    </tr>\n",
       "  </tbody>\n",
       "</table>\n",
       "</div>"
      ],
      "text/plain": [
       "   height  weight\n",
       "0     154      54\n",
       "1     184      84\n",
       "2     176      76\n",
       "0     167      67\n",
       "1     170      70\n",
       "2     163      63\n",
       "3     165      65"
      ]
     },
     "execution_count": 123,
     "metadata": {},
     "output_type": "execute_result"
    }
   ],
   "source": [
    "data1 = pd.DataFrame({\"height\":[154, 184, 176], \"weight\":[54, 84, 76]})\n",
    "data2 = pd.DataFrame({\"height\":[167, 170, 163, 165], \"weight\":[67, 70, 63, 65]})\n",
    "pd.concat([data1, data2])"
   ]
  },
  {
   "cell_type": "markdown",
   "metadata": {},
   "source": [
    "# 5. 기타 판다스 함수 및 메소드, 속성\n",
    "\n",
    "## 5.1. 판다스 함수\n",
    "\n",
    "함수|기능\n",
    "---|---\n",
    "pd.date_range|날짜 구간 생성\n",
    "pd.to_datetime|시리즈의 자료형을 timestamp로 변경\n",
    "pd.get_dummies|시리즈를 더미 인코딩\n",
    "\n",
    "## 5.2. 기타 데이터프레임 메소드\n",
    "\n",
    "메소드|기능\n",
    "---|---\n",
    "df.astype|특정 열의 데이터 타입 변경\n",
    "df.isnull()|값이 NA인지 판단\n",
    "df.dropna()|NA를 모두 드랍\n",
    "df.set_index()|열을 인덱스로\n",
    "df.reset_index()|인덱스를 초기화\n",
    "df.duplicated()|값이 중복되었는지 판단\n",
    "df.drop_duplicates()|중복된 행 제거\n",
    "df.pivot()|피봇 테이블\n",
    "\n",
    "## 5.3. 데이터프레임 속성\n",
    "\n",
    "메소드|내용\n",
    "---|---\n",
    "df.columns|데이터프레임의 열 이름\n",
    "df.values|데이터프레임의 값이 담긴 넘파이 어레이\n",
    "df.dtypes|데이터프레임의 데이터 타입 "
   ]
  }
 ],
 "metadata": {
  "kernelspec": {
   "display_name": "Python 3",
   "language": "python",
   "name": "python3"
  },
  "language_info": {
   "codemirror_mode": {
    "name": "ipython",
    "version": 3
   },
   "file_extension": ".py",
   "mimetype": "text/x-python",
   "name": "python",
   "nbconvert_exporter": "python",
   "pygments_lexer": "ipython3",
   "version": "3.7.6"
  }
 },
 "nbformat": 4,
 "nbformat_minor": 2
}
